{
  "cells": [
    {
      "metadata": {},
      "cell_type": "markdown",
      "source": "<center>\n<img src=\"../../img/ods_stickers.jpg\" />\n    \n## [mlcourse.ai](https://mlcourse.ai) – Open Machine Learning Course \nAuthor: Vitaly Radchenko (@vradchenko), [Yury Kashnitskiy](https://yorko.github.io) (@yorko). Edited by Sergey Volkov (@sevaspb). This material is subject to the terms and conditions of the [Creative Commons CC BY-NC-SA 4.0](https://creativecommons.org/licenses/by-nc-sa/4.0/) license. Free use is permitted for any non-commercial purpose."
    },
    {
      "metadata": {},
      "cell_type": "markdown",
      "source": "# <center> Assignment #5. Fall 2018\n## <center> RandomForest and Logistic Regression in credit scoring and movie reviews classification"
    },
    {
      "metadata": {},
      "cell_type": "markdown",
      "source": "####  Here we will develop and tune models for credit scoring and movies reviews sentiment prediction. Fill the code where needed (\"#Your code is here\") and answer the questions in the [web form](https://docs.google.com/forms/d/1MS3kW_bjZQAkwwlAjX9G8khj1owq1qc5NQtjzJUvKVo).\n\nFor the warm-up, solve the first task.\n\n<font color = 'red'> **Task 1:** </font> There are 7 jurors in the courtroom. Each of them individually can correctly determine whether the defendant is guilty or not with 80% probability. How likely is the jury will make a correct verdict jointly if the decision is made by majority voting?\n\n*For discussions, please stick to [ODS Slack](https://opendatascience.slack.com/), channel #mlcourse_ai, pinned thread __#a5_q1__*\n\n<font color = 'red'> **Answer options:** </font>\n- 20.97%\n- 80.00%\n- 83.70%\n- 96.66%\n"
    },
    {
      "metadata": {
        "trusted": true
      },
      "cell_type": "code",
      "source": "import math",
      "execution_count": 1,
      "outputs": []
    },
    {
      "metadata": {
        "trusted": true
      },
      "cell_type": "code",
      "source": "N = 7\np = 0.8\nm = math.floor(N/2) + 1\n\nN, p, m",
      "execution_count": 2,
      "outputs": [
        {
          "output_type": "execute_result",
          "execution_count": 2,
          "data": {
            "text/plain": "(7, 0.8, 4)"
          },
          "metadata": {}
        }
      ]
    },
    {
      "metadata": {
        "trusted": true
      },
      "cell_type": "code",
      "source": "def comb(n, k):\n    return math.factorial(n)/(math.factorial(k) * math.factorial(n-k))",
      "execution_count": 3,
      "outputs": []
    },
    {
      "metadata": {
        "trusted": true
      },
      "cell_type": "code",
      "source": "round(100 * sum([comb(N, i) * p ** i * (1 - p) ** (N - 1) \n                 for i in range(m, N + 1)]), 2)",
      "execution_count": 4,
      "outputs": [
        {
          "output_type": "execute_result",
          "execution_count": 4,
          "data": {
            "text/plain": "0.15"
          },
          "metadata": {}
        }
      ]
    },
    {
      "metadata": {},
      "cell_type": "markdown",
      "source": "Now let's move directly to machine learning.\n\n#### The [dataset](https://github.com/Yorko/mlcourse.ai/tree/master/data/credit_scoring_sample.csv) looks like this:\n\n##### Target variable\n* SeriousDlqin2yrs - the person had long delays in payments during 2 years; binary variable\n\n##### Features\n* age - Age of the loan borrower (number of full years); type - integer\n* NumberOfTime30-59DaysPastDueNotWorse - the number of times a person has had a delay in repaying other loans more than 30-59 days (but not more) during last two years; type - integer\n* DebtRatio - monthly payments (loans, alimony, etc.) divided by aggregate monthly income, percentage; float type\n* MonthlyIncome - monthly income in dollars; float type\n* NumberOfTimes90DaysLate - the number of times a person has had a delay in repaying other loans for more than 90 days; type - integer\n* NumberOfTime60-89DaysPastDueNotWorse - the number of times a person has had a delay in repaying other loans more than 60-89 days (but not more) in the last two years; type - integer\n* NumberOfDependents - number of people in the family of the borrower; type - integer"
    },
    {
      "metadata": {
        "trusted": true
      },
      "cell_type": "code",
      "source": "import numpy as np\nimport pandas as pd\nimport matplotlib.pyplot as plt",
      "execution_count": 1,
      "outputs": []
    },
    {
      "metadata": {},
      "cell_type": "markdown",
      "source": "Let us implement a function that will replace the NaN values by the median in each column of the table."
    },
    {
      "metadata": {
        "trusted": true
      },
      "cell_type": "code",
      "source": "def impute_nan_with_median(table):\n    for col in table.columns:\n        table[col]= table[col].fillna(table[col].median())\n    return table   ",
      "execution_count": 6,
      "outputs": []
    },
    {
      "metadata": {},
      "cell_type": "markdown",
      "source": "Reading the data:"
    },
    {
      "metadata": {
        "trusted": true
      },
      "cell_type": "code",
      "source": "data = pd.read_csv('data/credit_scoring_sample.csv', sep=\";\")\ndata.head()",
      "execution_count": 7,
      "outputs": [
        {
          "output_type": "execute_result",
          "execution_count": 7,
          "data": {
            "text/html": "<div>\n<style scoped>\n    .dataframe tbody tr th:only-of-type {\n        vertical-align: middle;\n    }\n\n    .dataframe tbody tr th {\n        vertical-align: top;\n    }\n\n    .dataframe thead th {\n        text-align: right;\n    }\n</style>\n<table border=\"1\" class=\"dataframe\">\n  <thead>\n    <tr style=\"text-align: right;\">\n      <th></th>\n      <th>SeriousDlqin2yrs</th>\n      <th>age</th>\n      <th>NumberOfTime30-59DaysPastDueNotWorse</th>\n      <th>DebtRatio</th>\n      <th>NumberOfTimes90DaysLate</th>\n      <th>NumberOfTime60-89DaysPastDueNotWorse</th>\n      <th>MonthlyIncome</th>\n      <th>NumberOfDependents</th>\n    </tr>\n  </thead>\n  <tbody>\n    <tr>\n      <th>0</th>\n      <td>0</td>\n      <td>64</td>\n      <td>0</td>\n      <td>0.249908</td>\n      <td>0</td>\n      <td>0</td>\n      <td>8158.0</td>\n      <td>0.0</td>\n    </tr>\n    <tr>\n      <th>1</th>\n      <td>0</td>\n      <td>58</td>\n      <td>0</td>\n      <td>3870.000000</td>\n      <td>0</td>\n      <td>0</td>\n      <td>NaN</td>\n      <td>0.0</td>\n    </tr>\n    <tr>\n      <th>2</th>\n      <td>0</td>\n      <td>41</td>\n      <td>0</td>\n      <td>0.456127</td>\n      <td>0</td>\n      <td>0</td>\n      <td>6666.0</td>\n      <td>0.0</td>\n    </tr>\n    <tr>\n      <th>3</th>\n      <td>0</td>\n      <td>43</td>\n      <td>0</td>\n      <td>0.000190</td>\n      <td>0</td>\n      <td>0</td>\n      <td>10500.0</td>\n      <td>2.0</td>\n    </tr>\n    <tr>\n      <th>4</th>\n      <td>1</td>\n      <td>49</td>\n      <td>0</td>\n      <td>0.271820</td>\n      <td>0</td>\n      <td>0</td>\n      <td>400.0</td>\n      <td>0.0</td>\n    </tr>\n  </tbody>\n</table>\n</div>",
            "text/plain": "   SeriousDlqin2yrs  age  NumberOfTime30-59DaysPastDueNotWorse    DebtRatio  \\\n0                 0   64                                     0     0.249908   \n1                 0   58                                     0  3870.000000   \n2                 0   41                                     0     0.456127   \n3                 0   43                                     0     0.000190   \n4                 1   49                                     0     0.271820   \n\n   NumberOfTimes90DaysLate  NumberOfTime60-89DaysPastDueNotWorse  \\\n0                        0                                     0   \n1                        0                                     0   \n2                        0                                     0   \n3                        0                                     0   \n4                        0                                     0   \n\n   MonthlyIncome  NumberOfDependents  \n0         8158.0                 0.0  \n1            NaN                 0.0  \n2         6666.0                 0.0  \n3        10500.0                 2.0  \n4          400.0                 0.0  "
          },
          "metadata": {}
        }
      ]
    },
    {
      "metadata": {},
      "cell_type": "markdown",
      "source": "View data types of the features:"
    },
    {
      "metadata": {
        "trusted": true
      },
      "cell_type": "code",
      "source": "data.dtypes",
      "execution_count": 8,
      "outputs": [
        {
          "output_type": "execute_result",
          "execution_count": 8,
          "data": {
            "text/plain": "SeriousDlqin2yrs                          int64\nage                                       int64\nNumberOfTime30-59DaysPastDueNotWorse      int64\nDebtRatio                               float64\nNumberOfTimes90DaysLate                   int64\nNumberOfTime60-89DaysPastDueNotWorse      int64\nMonthlyIncome                           float64\nNumberOfDependents                      float64\ndtype: object"
          },
          "metadata": {}
        }
      ]
    },
    {
      "metadata": {},
      "cell_type": "markdown",
      "source": "Look at the distribution of classes in target:"
    },
    {
      "metadata": {
        "trusted": true
      },
      "cell_type": "code",
      "source": "data.shape[0]",
      "execution_count": 9,
      "outputs": [
        {
          "output_type": "execute_result",
          "execution_count": 9,
          "data": {
            "text/plain": "45063"
          },
          "metadata": {}
        }
      ]
    },
    {
      "metadata": {
        "trusted": true
      },
      "cell_type": "code",
      "source": "ax = data['SeriousDlqin2yrs'].hist(orientation='horizontal', color='red')\nax.set_xlabel(\"number_of_observations\")\nax.set_ylabel(\"unique_value\")\nax.set_title(\"Target distribution\")\n\nprint('Distribution of target:')\ndata['SeriousDlqin2yrs'].value_counts() / data.shape[0]",
      "execution_count": 10,
      "outputs": [
        {
          "output_type": "stream",
          "text": "Distribution of target:\n",
          "name": "stdout"
        },
        {
          "output_type": "execute_result",
          "execution_count": 10,
          "data": {
            "text/plain": "0    0.777511\n1    0.222489\nName: SeriousDlqin2yrs, dtype: float64"
          },
          "metadata": {}
        },
        {
          "output_type": "display_data",
          "data": {
            "image/png": "[encoded data removed]",
            "text/plain": "<matplotlib.figure.Figure at 0x7f73e1af11d0>"
          },
          "metadata": {}
        }
      ]
    },
    {
      "metadata": {},
      "cell_type": "markdown",
      "source": "Select all the features and drop the target:"
    },
    {
      "metadata": {
        "trusted": true
      },
      "cell_type": "code",
      "source": "data.columns.drop('SeriousDlqin2yrs').values.tolist()",
      "execution_count": 11,
      "outputs": [
        {
          "output_type": "execute_result",
          "execution_count": 11,
          "data": {
            "text/plain": "['age',\n 'NumberOfTime30-59DaysPastDueNotWorse',\n 'DebtRatio',\n 'NumberOfTimes90DaysLate',\n 'NumberOfTime60-89DaysPastDueNotWorse',\n 'MonthlyIncome',\n 'NumberOfDependents']"
          },
          "metadata": {}
        }
      ]
    },
    {
      "metadata": {
        "trusted": true
      },
      "cell_type": "code",
      "source": "independent_columns_names = data.columns.values\nindependent_columns_names = [x for x in data if x != 'SeriousDlqin2yrs']\nindependent_columns_names",
      "execution_count": 12,
      "outputs": [
        {
          "output_type": "execute_result",
          "execution_count": 12,
          "data": {
            "text/plain": "['age',\n 'NumberOfTime30-59DaysPastDueNotWorse',\n 'DebtRatio',\n 'NumberOfTimes90DaysLate',\n 'NumberOfTime60-89DaysPastDueNotWorse',\n 'MonthlyIncome',\n 'NumberOfDependents']"
          },
          "metadata": {}
        }
      ]
    },
    {
      "metadata": {},
      "cell_type": "markdown",
      "source": "We apply a function that replaces all values of NaN by the median value of the corresponding column."
    },
    {
      "metadata": {
        "trusted": true
      },
      "cell_type": "code",
      "source": "table = impute_nan_with_median(data)",
      "execution_count": 13,
      "outputs": []
    },
    {
      "metadata": {},
      "cell_type": "markdown",
      "source": "Split the target and features - now we get a training sample."
    },
    {
      "metadata": {
        "trusted": true
      },
      "cell_type": "code",
      "source": "X = table[independent_columns_names]\ny = table['SeriousDlqin2yrs']",
      "execution_count": 14,
      "outputs": []
    },
    {
      "metadata": {},
      "cell_type": "markdown",
      "source": "# Bootstrap\n\n**<font color = 'red'> Task 2. </font>** Make an interval estimate based on the bootstrap of the average income (MonthlyIncome)  of customers who had overdue loan payments, and of those who paid in time, make 90% confidence interval. Find the difference between the lower limit of the derived interval for those who paid in time and the upper limit for those who are overdue.\nSo, you are asked to build 90% intervals for the income of \"good\" customers $ [good\\_income\\_lower, good\\_income\\_upper] $ and for \"bad\" - $ [bad\\_income\\_lower, bad\\_income\\_upper] $ and find the difference $ good\\_income\\_lower - bad\\_income\\_upper $.\n\nUse the example from the [article](https://medium.com/open-machine-learning-course/open-machine-learning-course-topic-5-ensembles-of-algorithms-and-random-forest-8e05246cbba7). Set `np.random.seed (17)`. Round the answer to the integer value.\n\n*For discussions, please stick to [ODS Slack](https://opendatascience.slack.com/), channel #mlcourse_ai, pinned thread __#a5_q2__*"
    },
    {
      "metadata": {},
      "cell_type": "markdown",
      "source": "**<font color='red'>Answer options:</font>**\n- 344\n- 424\n- 584\n- **654**"
    },
    {
      "metadata": {
        "trusted": true
      },
      "cell_type": "code",
      "source": "import numpy as np\ndef get_bootstrap_samples(data, n_samples):\n    # функция для генерации подвыборок с помощью бутстрэпа\n    indices = np.random.randint(0, len(data), size=(n_samples, len(data)))\n    samples = data[indices]\n    return samples\ndef stat_intervals(stat, alpha):\n    # функция для интервальной оценки\n    boundaries = np.percentile(stat, [100 * alpha / 2., 100 * (1 - alpha / 2.)])\n    return boundaries\n\nprint(np.random.randint(0, 10))\n",
      "execution_count": 6,
      "outputs": [
        {
          "output_type": "stream",
          "text": "9\n",
          "name": "stdout"
        }
      ]
    },
    {
      "metadata": {
        "trusted": true
      },
      "cell_type": "code",
      "source": "good_clients = data[data['SeriousDlqin2yrs'] == 0]['MonthlyIncome'].values\nbad_clients = data[data['SeriousDlqin2yrs'] == 1]['MonthlyIncome'].values\n\n# ставим seed для воспроизводимости результатов\nnp.random.seed(17)\n\n# генерируем выборки с помощью бутстрэра и сразу считаем по каждой из них среднее\ngood_clients_mean_scores = [np.mean(sample) for sample in get_bootstrap_samples(good_clients, 1000)]\n\n\nbad_clients_mean_scores = [np.mean(sample) for sample in get_bootstrap_samples(bad_clients, 1000)]\n\ngood_income_lower, good_income_upper = stat_intervals(good_clients_mean_scores, 0.1)\nbad_income_lower, bad_income_upper = stat_intervals(bad_clients_mean_scores, 0.1)\n\n#  выводим интервальную оценку среднего\nprint(f\"Good clients: mean interval {good_income_lower}, {good_income_upper}\")\nprint(f\"Bad clients: mean interval {bad_income_lower}, {bad_income_upper}\")",
      "execution_count": 7,
      "outputs": [
        {
          "output_type": "error",
          "ename": "NameError",
          "evalue": "name 'data' is not defined",
          "traceback": [
            "\u001b[0;31m---------------------------------------------------------------------------\u001b[0m",
            "\u001b[0;31mNameError\u001b[0m                                 Traceback (most recent call last)",
            "\u001b[0;32m<ipython-input-7-4c945af25777>\u001b[0m in \u001b[0;36m<module>\u001b[0;34m\u001b[0m\n\u001b[0;32m----> 1\u001b[0;31m \u001b[0mgood_clients\u001b[0m \u001b[0;34m=\u001b[0m \u001b[0mdata\u001b[0m\u001b[0;34m[\u001b[0m\u001b[0mdata\u001b[0m\u001b[0;34m[\u001b[0m\u001b[0;34m'SeriousDlqin2yrs'\u001b[0m\u001b[0;34m]\u001b[0m \u001b[0;34m==\u001b[0m \u001b[0;36m0\u001b[0m\u001b[0;34m]\u001b[0m\u001b[0;34m[\u001b[0m\u001b[0;34m'MonthlyIncome'\u001b[0m\u001b[0;34m]\u001b[0m\u001b[0;34m.\u001b[0m\u001b[0mvalues\u001b[0m\u001b[0;34m\u001b[0m\u001b[0m\n\u001b[0m\u001b[1;32m      2\u001b[0m \u001b[0mbad_clients\u001b[0m \u001b[0;34m=\u001b[0m \u001b[0mdata\u001b[0m\u001b[0;34m[\u001b[0m\u001b[0mdata\u001b[0m\u001b[0;34m[\u001b[0m\u001b[0;34m'SeriousDlqin2yrs'\u001b[0m\u001b[0;34m]\u001b[0m \u001b[0;34m==\u001b[0m \u001b[0;36m1\u001b[0m\u001b[0;34m]\u001b[0m\u001b[0;34m[\u001b[0m\u001b[0;34m'MonthlyIncome'\u001b[0m\u001b[0;34m]\u001b[0m\u001b[0;34m.\u001b[0m\u001b[0mvalues\u001b[0m\u001b[0;34m\u001b[0m\u001b[0m\n\u001b[1;32m      3\u001b[0m \u001b[0;34m\u001b[0m\u001b[0m\n\u001b[1;32m      4\u001b[0m \u001b[0;31m# ставим seed для воспроизводимости результатов\u001b[0m\u001b[0;34m\u001b[0m\u001b[0;34m\u001b[0m\u001b[0m\n\u001b[1;32m      5\u001b[0m \u001b[0mnp\u001b[0m\u001b[0;34m.\u001b[0m\u001b[0mrandom\u001b[0m\u001b[0;34m.\u001b[0m\u001b[0mseed\u001b[0m\u001b[0;34m(\u001b[0m\u001b[0;36m17\u001b[0m\u001b[0;34m)\u001b[0m\u001b[0;34m\u001b[0m\u001b[0m\n",
            "\u001b[0;31mNameError\u001b[0m: name 'data' is not defined"
          ]
        }
      ]
    },
    {
      "metadata": {
        "trusted": true
      },
      "cell_type": "code",
      "source": "round(good_income_lower - bad_income_upper, 2)",
      "execution_count": 17,
      "outputs": [
        {
          "output_type": "execute_result",
          "execution_count": 17,
          "data": {
            "text/plain": "652.0"
          },
          "metadata": {}
        }
      ]
    },
    {
      "metadata": {},
      "cell_type": "markdown",
      "source": "# Decision tree, hyperparameter tuning"
    },
    {
      "metadata": {},
      "cell_type": "markdown",
      "source": "One of the main performance metrics of a model is the area under the ROC curve. The ROC-AUC values lay between 0 and 1. The closer the value of ROC-AUC to 1, the better the classification is done.\n\nFind the values of `DecisionTreeClassifier` hyperparameters using the `GridSearchCV`, which maximize the area under the ROC curve."
    },
    {
      "metadata": {
        "trusted": true
      },
      "cell_type": "code",
      "source": "from sklearn.tree import DecisionTreeClassifier\nfrom sklearn.model_selection import GridSearchCV, StratifiedKFold",
      "execution_count": 5,
      "outputs": []
    },
    {
      "metadata": {},
      "cell_type": "markdown",
      "source": "Use the `DecisionTreeClassifier` class to create a decision tree. Due to the imbalance of the classes in the target, we add the balancing parameter. We also use the parameter `random_state = 17` for the reproducibility of the results."
    },
    {
      "metadata": {
        "trusted": true
      },
      "cell_type": "code",
      "source": "dt = DecisionTreeClassifier(random_state=17, class_weight='balanced')",
      "execution_count": 19,
      "outputs": []
    },
    {
      "metadata": {},
      "cell_type": "markdown",
      "source": "We will look through such values of hyperparameters:"
    },
    {
      "metadata": {
        "trusted": true
      },
      "cell_type": "code",
      "source": "max_depth_values = [5, 6, 7, 8, 9]\nmax_features_values = [4, 5, 6, 7]\ntree_params = {'max_depth': max_depth_values,\n               'max_features': max_features_values}",
      "execution_count": 20,
      "outputs": []
    },
    {
      "metadata": {},
      "cell_type": "markdown",
      "source": "Fix cross-validation parameters: stratified, 5 partitions with shuffle, \n`random_state`."
    },
    {
      "metadata": {
        "trusted": true
      },
      "cell_type": "code",
      "source": "skf = StratifiedKFold(n_splits=5, shuffle=True, random_state=17)",
      "execution_count": 21,
      "outputs": []
    },
    {
      "metadata": {},
      "cell_type": "markdown",
      "source": "**<font color='red'>Task 3.</font>**\nRun GridSearch with the ROC AUC metric using the hyperparameters from the `tree_params` dictionary. What is the maximum ROC AUC value (round up to 2 decimals)? We call cross-validation stable if the standard deviation of the metric on the cross-validation is less than 1%. Was cross-validation stable under optimal combinations of hyperparameters (i.e., providing a maximum of the mean ROC AUC value for cross-validation)?\n\n*For discussions, please stick to [ODS Slack](https://opendatascience.slack.com/), channel #mlcourse_ai, pinned thread __#a5_q3__*"
    },
    {
      "metadata": {},
      "cell_type": "markdown",
      "source": "**<font color='red'>Answer options:</font>**\n- 0.82, no\n- 0.84, no\n- **0.82, yes**\n- 0.84, yes"
    },
    {
      "metadata": {
        "trusted": true
      },
      "cell_type": "code",
      "source": "cv = GridSearchCV(dt, tree_params, scoring='roc_auc', cv=skf)",
      "execution_count": 22,
      "outputs": []
    },
    {
      "metadata": {
        "trusted": true
      },
      "cell_type": "code",
      "source": "cv.fit(X, y)",
      "execution_count": 23,
      "outputs": [
        {
          "output_type": "execute_result",
          "execution_count": 23,
          "data": {
            "text/plain": "GridSearchCV(cv=StratifiedKFold(n_splits=5, random_state=17, shuffle=True),\n       error_score='raise',\n       estimator=DecisionTreeClassifier(class_weight='balanced', criterion='gini',\n            max_depth=None, max_features=None, max_leaf_nodes=None,\n            min_impurity_decrease=0.0, min_impurity_split=None,\n            min_samples_leaf=1, min_samples_split=2,\n            min_weight_fraction_leaf=0.0, presort=False, random_state=17,\n            splitter='best'),\n       fit_params=None, iid=True, n_jobs=1,\n       param_grid={'max_depth': [5, 6, 7, 8, 9], 'max_features': [4, 5, 6, 7]},\n       pre_dispatch='2*n_jobs', refit=True, return_train_score='warn',\n       scoring='roc_auc', verbose=0)"
          },
          "metadata": {}
        }
      ]
    },
    {
      "metadata": {
        "trusted": true
      },
      "cell_type": "code",
      "source": "cv.best_params_",
      "execution_count": 24,
      "outputs": [
        {
          "output_type": "execute_result",
          "execution_count": 24,
          "data": {
            "text/plain": "{'max_depth': 7, 'max_features': 6}"
          },
          "metadata": {}
        }
      ]
    },
    {
      "metadata": {
        "trusted": true
      },
      "cell_type": "code",
      "source": "round(cv.best_score_, 2)",
      "execution_count": 25,
      "outputs": [
        {
          "output_type": "execute_result",
          "execution_count": 25,
          "data": {
            "text/plain": "0.82"
          },
          "metadata": {}
        }
      ]
    },
    {
      "metadata": {
        "trusted": true
      },
      "cell_type": "code",
      "source": "cv.cv_results_['std_test_score'][cv.best_index_]",
      "execution_count": 26,
      "outputs": [
        {
          "output_type": "execute_result",
          "execution_count": 26,
          "data": {
            "text/plain": "0.002758483553592935"
          },
          "metadata": {}
        }
      ]
    },
    {
      "metadata": {},
      "cell_type": "markdown",
      "source": "# Simple RandomForest implementation"
    },
    {
      "metadata": {},
      "cell_type": "markdown",
      "source": "**<font color='red'>Task 4.</font>**\nImplement your own random forest using `DecisionTreeClassifier` with the best parameters from the previous task. There will be 10 trees, the predicted probabilities of which you need to average.\n\nBrief specification:\n - Use the base code below\n - In the `fit` method in the loop (`i` from 0 to `n_estimators-1`), fix the seed equal to (`random_state + i`). The idea is that at each iteration there's a new value of random seed to add more \"randomness\", but at hte same time results are reproducible\n - After fixing the seed, select `max_features` features **without replacement**, save the list of selected feature ids in `self.feat_ids_by_tree`\n - Also make a bootstrap sample (i.e. **sampling with replacement**) of training instances. For that, resort to `np.random.choice` and its argument `replace`\n - Train a decision tree with specified (in a constructor) arguments `max_depth`, `max_features` and `random_state` (do not specify `class_weight`) on a corresponding subset of training data. \n - The `fit` method returns the current instance of the class `RandomForestClassifierCustom`, that is `self`\n - In the `predict_proba` method, we need to loop through all the trees. For each prediction, obviously, we need to take only those features which we used for training the corresponding tree. The method returns predicted probabilities (`predict_proba`), averaged for all trees\n\nPerform cross-validation. What is the average ROC AUC for cross-validation? Select the closest value.\n\n*For discussions, please stick to [ODS Slack](https://opendatascience.slack.com/), channel #mlcourse_ai, pinned thread __#a5_q4__*\n\n**<font color='red'>Answer options:</font>**\n- 0.823\n- **0.833**\n- 0.843\n- 0.853"
    },
    {
      "metadata": {
        "trusted": true
      },
      "cell_type": "code",
      "source": "from sklearn.base import BaseEstimator\nfrom sklearn.model_selection import cross_val_score\n\nclass RandomForestClassifierCustom(BaseEstimator):\n    def __init__(self, n_estimators=10, max_depth=10, max_features=10, \n                 random_state=17):\n        self.n_estimators = n_estimators\n        self.max_depth = max_depth\n        self.max_features = max_features\n        self.random_state = random_state\n        \n        self.trees = []\n        self.feat_ids_by_tree = [] #Список признаков для КАЖДОГО дерева. \n                                    #Мы это делаем для того, чтобы понимать, какие колонки выбрать, чтобы сделать прогноз\n        \n    def fit(self, X, y):\n        for i in range(self.n_estimators):\n            np.random.seed(self.random_state + i)\n            col_indices = np.random.choice(\n                range(X.columns.shape[0]), \n                size=self.max_features,\n                replace=False\n            )\n            self.feat_ids_by_tree.append(col_indices)\n            row_indices = np.random.randint(0, len(X), size=len(X))\n            sample_X = X.iloc[row_indices, col_indices]\n            sample_y = y[row_indices]\n            dt = DecisionTreeClassifier(\n                max_depth=self.max_depth,\n                max_features=self.max_features,\n                random_state=self.random_state\n            )\n            dt.fit(sample_X, sample_y)\n            self.trees.append(dt)\n            \n            \n    def predict_proba(self, X):\n        predictions = None\n        for ti, tree in enumerate(self.trees):\n            indices = self.feat_ids_by_tree[ti]\n            sample_X = X.iloc[:, indices]\n            if predictions is None:\n                predictions = tree.predict_proba(sample_X)\n            else:\n                predictions += tree.predict_proba(sample_X)\n        return predictions / len(self.trees) #Можно было просто добавлять объекты в список, а затем усреднить(посчитать медиану)",
      "execution_count": 2,
      "outputs": []
    },
    {
      "metadata": {
        "trusted": true
      },
      "cell_type": "code",
      "source": "rf = RandomForestClassifierCustom(max_depth=7, max_features=6)\nrf.fit(X, y)",
      "execution_count": 28,
      "outputs": []
    },
    {
      "metadata": {
        "trusted": true
      },
      "cell_type": "code",
      "source": "ans = cross_val_score(rf, X, y.values, cv=skf, scoring='roc_auc')",
      "execution_count": 29,
      "outputs": []
    },
    {
      "metadata": {
        "trusted": true
      },
      "cell_type": "code",
      "source": "ans.mean()",
      "execution_count": 30,
      "outputs": [
        {
          "output_type": "execute_result",
          "execution_count": 30,
          "data": {
            "text/plain": "0.8323967442439001"
          },
          "metadata": {}
        }
      ]
    },
    {
      "metadata": {},
      "cell_type": "markdown",
      "source": "**<font color='red'>Task 5.</font>**\nLet us compare our own implementation of a random forest with `sklearn` version of it. To do this, use `RandomForestClassifier (class_weight='balanced', random_state=17)`, specify all the same values for `max_depth` and `max_features` as before. What average value of ROC AUC on cross-validation we finally got? Select the closest value.\n\n*For discussions, please stick to [ODS Slack](https://opendatascience.slack.com/), channel #mlcourse_ai, pinned thread __#a5_q5__*\n\n**<font color='red'>Answer options:</font>**\n- 0.823\n- **0.833**\n- 0.843\n- 0.853"
    },
    {
      "metadata": {
        "trusted": true
      },
      "cell_type": "code",
      "source": "from sklearn.ensemble import RandomForestClassifier",
      "execution_count": 3,
      "outputs": [
        {
          "output_type": "stream",
          "text": "/home/nbuser/anaconda3_501/lib/python3.6/site-packages/sklearn/ensemble/weight_boosting.py:29: DeprecationWarning: numpy.core.umath_tests is an internal NumPy module and should not be imported. It will be removed in a future NumPy release.\n  from numpy.core.umath_tests import inner1d\n",
          "name": "stderr"
        }
      ]
    },
    {
      "metadata": {
        "trusted": true
      },
      "cell_type": "code",
      "source": "rf = RandomForestClassifier(\n    max_depth=7,\n    max_features=6,\n    class_weight='balanced',\n    random_state=17\n)\nrf.fit(X, y)",
      "execution_count": 32,
      "outputs": [
        {
          "output_type": "execute_result",
          "execution_count": 32,
          "data": {
            "text/plain": "RandomForestClassifier(bootstrap=True, class_weight='balanced',\n            criterion='gini', max_depth=7, max_features=6,\n            max_leaf_nodes=None, min_impurity_decrease=0.0,\n            min_impurity_split=None, min_samples_leaf=1,\n            min_samples_split=2, min_weight_fraction_leaf=0.0,\n            n_estimators=10, n_jobs=1, oob_score=False, random_state=17,\n            verbose=0, warm_start=False)"
          },
          "metadata": {}
        }
      ]
    },
    {
      "metadata": {
        "trusted": true
      },
      "cell_type": "code",
      "source": "scores = cross_val_score(rf, X, y.values, cv=skf, scoring='roc_auc')",
      "execution_count": 33,
      "outputs": []
    },
    {
      "metadata": {
        "trusted": true
      },
      "cell_type": "code",
      "source": "scores",
      "execution_count": 34,
      "outputs": [
        {
          "output_type": "execute_result",
          "execution_count": 34,
          "data": {
            "text/plain": "array([0.83074809, 0.83028829, 0.82768567, 0.83143732, 0.82555873])"
          },
          "metadata": {}
        }
      ]
    },
    {
      "metadata": {
        "trusted": true
      },
      "cell_type": "code",
      "source": "scores.mean()",
      "execution_count": 35,
      "outputs": [
        {
          "output_type": "execute_result",
          "execution_count": 35,
          "data": {
            "text/plain": "0.8291436207462765"
          },
          "metadata": {}
        }
      ]
    },
    {
      "metadata": {},
      "cell_type": "markdown",
      "source": "# `sklearn` RandomForest, hyperparameter tuning"
    },
    {
      "metadata": {},
      "cell_type": "markdown",
      "source": "**<font color='red'>Task 6.</font>** \nIn the third task, we found the optimal hyperparameters for one tree. However it could be that these parameters are not optimal for an ensemble. Let's check this assumption with `GridSearchCV` `(RandomForestClassifier (class_weight='balanced', random_state = 17)` ). Now we extend the value of `max_depth` up to 15, because the trees need to be deeper in the forest (you should be aware of it from the [article](https://medium.com/open-machine-learning-course/open-machine-learning-course-topic-5-ensembles-of-algorithms-and-random-forest-8e05246cbba7)). What are the best values of hyperparameters now?\n\n*For discussions, please stick to [ODS Slack](https://opendatascience.slack.com/), channel #mlcourse_ai, pinned thread __#a5_q6__*\n\n**<font color='red'>Answer options:</font>**\n- **`max_depth=8, max_features=4`**\n- `max_depth=9, max_features=5`\n- `max_depth=10, max_features=6`\n- `max_depth=11, max_features=7`"
    },
    {
      "metadata": {
        "trusted": true
      },
      "cell_type": "code",
      "source": "max_depth_values = range(5, 15)\nmax_features_values = [4, 5, 6, 7]\nforest_params = {'max_depth': max_depth_values,\n                'max_features': max_features_values}",
      "execution_count": 36,
      "outputs": []
    },
    {
      "metadata": {
        "trusted": true
      },
      "cell_type": "code",
      "source": "cv = GridSearchCV(rf, forest_params, scoring='roc_auc', cv=skf)",
      "execution_count": null,
      "outputs": []
    },
    {
      "metadata": {
        "trusted": true
      },
      "cell_type": "code",
      "source": "cv.fit(X, y)",
      "execution_count": null,
      "outputs": []
    },
    {
      "metadata": {
        "trusted": true
      },
      "cell_type": "code",
      "source": "cv.best_params_",
      "execution_count": null,
      "outputs": []
    },
    {
      "metadata": {},
      "cell_type": "markdown",
      "source": "# Logistic regression, hyperparameter tuning"
    },
    {
      "metadata": {},
      "cell_type": "markdown",
      "source": "**<font color='red'>Task 7.</font>**  Now let's compare our results with logistic regression (we indicate `class_weight='balanced'` and `random_state = 17`). Do a full search by the parameter `C` from a wide range of values `np.logspace(-8, 8, 17)`.\nNow we will build a pipeline - first apply scaling, then train the model.\n\nLearn about the pipelines and make cross-validation. What is the best average ROC AUC? Select the closest value.\n\n*For discussions, please stick to [ODS Slack](https://opendatascience.slack.com/), channel #mlcourse_ai, pinned thread __#a5_q7__*\n\n**<font color='red'>Answer options:</font>**\n- 0.778\n- **0.788**\n- 0.798\n- 0.808"
    },
    {
      "metadata": {
        "trusted": true
      },
      "cell_type": "code",
      "source": "from sklearn.pipeline import Pipeline\nfrom sklearn.preprocessing import StandardScaler\nfrom sklearn.linear_model import LogisticRegression\n\nscaler = StandardScaler()\nlogit = LogisticRegression(random_state=17, class_weight='balanced')\n\nlogit_pipe = Pipeline([('scaler', scaler), ('logit', logit)])\nlogit_pipe_params = {'logit__C': np.logspace(-8, 8, 17)}",
      "execution_count": 4,
      "outputs": []
    },
    {
      "metadata": {
        "trusted": true
      },
      "cell_type": "code",
      "source": "logit_pipe.fit(X, y)",
      "execution_count": null,
      "outputs": []
    },
    {
      "metadata": {
        "trusted": true
      },
      "cell_type": "code",
      "source": "cl = GridSearchCV(logit_pipe, logit_pipe_params, cv=skf, scoring='roc_auc')",
      "execution_count": null,
      "outputs": []
    },
    {
      "metadata": {
        "trusted": true
      },
      "cell_type": "code",
      "source": "best_model = cl.fit(X, y.values)",
      "execution_count": null,
      "outputs": []
    },
    {
      "metadata": {
        "trusted": true
      },
      "cell_type": "code",
      "source": "round(best_model.best_score_, 3)",
      "execution_count": null,
      "outputs": []
    },
    {
      "metadata": {},
      "cell_type": "markdown",
      "source": "# Logistic regression and RandomForest on sparse features"
    },
    {
      "metadata": {},
      "cell_type": "markdown",
      "source": "In case of a small number of features, random forest was proved to be better than logistic regression. However, one of the main disadvantages of trees is how they work with sparse data, for example, with texts. Let's compare logistic regression and random forest in a new task.\nDownload dataset with reviews of movies [here](http://d.pr/f/W0HpZh). "
    },
    {
      "metadata": {
        "trusted": true
      },
      "cell_type": "code",
      "source": "# Download data\ndf = pd.read_csv(\"data/movie_reviews_train.csv\", nrows=50000)\n\n# Split data to train and test\nX_text = df[\"text\"]\ny_text = df[\"label\"]\n\n# Classes counts\ndf.label.value_counts()",
      "execution_count": 8,
      "outputs": [
        {
          "output_type": "execute_result",
          "execution_count": 8,
          "data": {
            "text/plain": "1    32492\n0    17508\nName: label, dtype: int64"
          },
          "metadata": {}
        }
      ]
    },
    {
      "metadata": {
        "trusted": true
      },
      "cell_type": "code",
      "source": "from sklearn.feature_extraction.text import CountVectorizer\nfrom sklearn.pipeline import Pipeline\n\n# Split on 3 folds\nskf = StratifiedKFold(n_splits=3, shuffle=True, random_state=17)\n\n# In Pipeline we will modify the text and train logistic regression\nclassifier = Pipeline([\n    ('vectorizer', CountVectorizer(max_features=100000, ngram_range=(1, 3))), ('clf', LogisticRegression(random_state=17))])",
      "execution_count": 9,
      "outputs": []
    },
    {
      "metadata": {
        "trusted": true
      },
      "cell_type": "code",
      "source": "df.head()",
      "execution_count": 10,
      "outputs": [
        {
          "output_type": "execute_result",
          "execution_count": 10,
          "data": {
            "text/html": "<div>\n<style scoped>\n    .dataframe tbody tr th:only-of-type {\n        vertical-align: middle;\n    }\n\n    .dataframe tbody tr th {\n        vertical-align: top;\n    }\n\n    .dataframe thead th {\n        text-align: right;\n    }\n</style>\n<table border=\"1\" class=\"dataframe\">\n  <thead>\n    <tr style=\"text-align: right;\">\n      <th></th>\n      <th>label</th>\n      <th>text</th>\n    </tr>\n  </thead>\n  <tbody>\n    <tr>\n      <th>0</th>\n      <td>1</td>\n      <td>To an entire generation of filmgoers, it just ...</td>\n    </tr>\n    <tr>\n      <th>1</th>\n      <td>1</td>\n      <td>Pixar classic is one of the best kids' movies ...</td>\n    </tr>\n    <tr>\n      <th>2</th>\n      <td>1</td>\n      <td>Apesar de representar um imenso avanço tecnoló...</td>\n    </tr>\n    <tr>\n      <th>3</th>\n      <td>1</td>\n      <td>When Woody perks up in the opening scene, it's...</td>\n    </tr>\n    <tr>\n      <th>4</th>\n      <td>1</td>\n      <td>Introduced not one but two indelible character...</td>\n    </tr>\n  </tbody>\n</table>\n</div>",
            "text/plain": "   label                                               text\n0      1  To an entire generation of filmgoers, it just ...\n1      1  Pixar classic is one of the best kids' movies ...\n2      1  Apesar de representar um imenso avanço tecnoló...\n3      1  When Woody perks up in the opening scene, it's...\n4      1  Introduced not one but two indelible character..."
          },
          "metadata": {}
        }
      ]
    },
    {
      "metadata": {},
      "cell_type": "markdown",
      "source": "**<font color='red'>Task 8.</font>** For Logistic Regression: iterate parameter `C` with values from the list [0.1, 1, 10, 100] and find the best ROC AUC in cross-validation. Select the closest answer.\n\n*For discussions, please stick to [ODS Slack](https://opendatascience.slack.com/), channel #mlcourse_ai, pinned thread __#a5_q8__*\n\n**<font color='red'>Answer options:</font>**\n- 0.74\n- 0.75\n- 0.84\n- **0.85**"
    },
    {
      "metadata": {
        "trusted": true
      },
      "cell_type": "code",
      "source": "clf_C_params = {'clf__C': [0.1, 1, 10, 100]}",
      "execution_count": 10,
      "outputs": []
    },
    {
      "metadata": {
        "trusted": true
      },
      "cell_type": "code",
      "source": "slr = GridSearchCV(classifier, clf_C_params, cv=skf, scoring='roc_auc', n_jobs=-1)",
      "execution_count": 13,
      "outputs": []
    },
    {
      "metadata": {
        "trusted": true
      },
      "cell_type": "code",
      "source": "slr.fit(X_text, y_text)",
      "execution_count": 14,
      "outputs": [
        {
          "output_type": "execute_result",
          "execution_count": 14,
          "data": {
            "text/plain": "GridSearchCV(cv=StratifiedKFold(n_splits=3, random_state=17, shuffle=True),\n       error_score='raise',\n       estimator=Pipeline(memory=None,\n     steps=[('vectorizer', CountVectorizer(analyzer='word', binary=False, decode_error='strict',\n        dtype=<class 'numpy.int64'>, encoding='utf-8', input='content',\n        lowercase=True, max_df=1.0, max_features=100000, min_df=1,\n        ngram_range=(1, 3), preprocessor=None, stop_words=None,\n     ...alty='l2', random_state=17, solver='liblinear', tol=0.0001,\n          verbose=0, warm_start=False))]),\n       fit_params=None, iid=True, n_jobs=-1,\n       param_grid={'clf__C': [0.1, 1, 10, 100]}, pre_dispatch='2*n_jobs',\n       refit=True, return_train_score='warn', scoring='roc_auc', verbose=0)"
          },
          "metadata": {}
        }
      ]
    },
    {
      "metadata": {
        "trusted": true
      },
      "cell_type": "code",
      "source": "slr.best_score_, ",
      "execution_count": 16,
      "outputs": [
        {
          "output_type": "execute_result",
          "execution_count": 16,
          "data": {
            "text/plain": "(0.8586927128969495,)"
          },
          "metadata": {}
        }
      ]
    },
    {
      "metadata": {},
      "cell_type": "markdown",
      "source": "**<font color='red'>Task 9.</font>** Now try to perform the same operation with random forest. Similarly, look over all the values and get the maximum ROC AUC. Select the closest value.\n\n*For discussions, please stick to [ODS Slack](https://opendatascience.slack.com/), channel #mlcourse_ai, pinned thread __#a5_q9__*\n\n**<font color='red'>Answer options:</font>**\n- 0.74\n- **0.75**\n- 0.84\n- 0.85"
    },
    {
      "metadata": {
        "trusted": true
      },
      "cell_type": "code",
      "source": "skf = StratifiedKFold(n_splits=3, shuffle=True, random_state=17)\n\npipeline = Pipeline([\n    ('vectorizer', CountVectorizer(max_features=100000, ngram_range=(1, 3))),\n    ('classifier', RandomForestClassifier(random_state=17, n_jobs=-1))])\n\nmin_samples_leaf = [1, 2, 3]\nmax_features = [0.3, 0.5, 0.7]\nmax_depth = [None]\nparams = {'classifier__min_samples_leaf': min_samples_leaf,\n                 'classifier__max_features': max_features,\n                 'classifier__max_depth': max_depth}\n",
      "execution_count": 10,
      "outputs": []
    },
    {
      "metadata": {
        "trusted": true
      },
      "cell_type": "code",
      "source": "cv = GridSearchCV(estimator=pipeline, param_grid=params, scoring='roc_auc', cv=skf, n_jobs=-1)",
      "execution_count": 11,
      "outputs": []
    },
    {
      "metadata": {
        "trusted": true
      },
      "cell_type": "code",
      "source": "%%time\ncv.fit(X_text, y_text)",
      "execution_count": 12,
      "outputs": [
        {
          "output_type": "stream",
          "text": "CPU times: user 5min 7s, sys: 3.11 s, total: 5min 11s\nWall time: 44min 28s\n",
          "name": "stdout"
        },
        {
          "output_type": "execute_result",
          "execution_count": 12,
          "data": {
            "text/plain": "GridSearchCV(cv=StratifiedKFold(n_splits=3, random_state=17, shuffle=True),\n       error_score='raise',\n       estimator=Pipeline(memory=None,\n     steps=[('vectorizer', CountVectorizer(analyzer='word', binary=False, decode_error='strict',\n        dtype=<class 'numpy.int64'>, encoding='utf-8', input='content',\n        lowercase=True, max_df=1.0, max_features=100000, min_df=1,\n        ngram_range=(1, 3), preprocessor=None, stop_words=None,\n     ...timators=10, n_jobs=-1,\n            oob_score=False, random_state=17, verbose=0, warm_start=False))]),\n       fit_params=None, iid=True, n_jobs=-1,\n       param_grid={'classifier__min_samples_leaf': [1, 2, 3], 'classifier__max_features': [0.3, 0.5, 0.7], 'classifier__max_depth': [None]},\n       pre_dispatch='2*n_jobs', refit=True, return_train_score='warn',\n       scoring='roc_auc', verbose=0)"
          },
          "metadata": {}
        }
      ]
    },
    {
      "metadata": {
        "trusted": true
      },
      "cell_type": "code",
      "source": "cv.best_score_",
      "execution_count": 13,
      "outputs": [
        {
          "output_type": "execute_result",
          "execution_count": 13,
          "data": {
            "text/plain": "0.7472746431514513"
          },
          "metadata": {}
        }
      ]
    },
    {
      "metadata": {
        "trusted": true
      },
      "cell_type": "code",
      "source": "",
      "execution_count": null,
      "outputs": []
    }
  ],
  "metadata": {
    "kernelspec": {
      "name": "python36",
      "display_name": "Python 3.6",
      "language": "python"
    },
    "language_info": {
      "mimetype": "text/x-python",
      "nbconvert_exporter": "python",
      "name": "python",
      "pygments_lexer": "ipython3",
      "version": "3.6.6",
      "file_extension": ".py",
      "codemirror_mode": {
        "version": 3,
        "name": "ipython"
      }
    }
  },
  "nbformat": 4,
  "nbformat_minor": 2
}