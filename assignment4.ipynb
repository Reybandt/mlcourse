{
  "cells": [
    {
      "metadata": {},
      "cell_type": "markdown",
      "source": "<center>\n<img src=\"../../img/ods_stickers.jpg\" />\n    \n## [mlcourse.ai](mlcourse.ai) – Open Machine Learning Course \nAuthors: Yury Isakov, [Yury Kashnitskiy](https://yorko.github.io) (@yorko). Edited by Anna Tarelina (@feuerengel), and Kolchenko Sergey (@KolchenkoSergey). This material is subject to the terms and conditions of the [Creative Commons CC BY-NC-SA 4.0](https://creativecommons.org/licenses/by-nc-sa/4.0/) license. Free use is permitted for any non-commercial purpose."
    },
    {
      "metadata": {},
      "cell_type": "markdown",
      "source": "# <center> Assignment #4\n## <center>  User Identification with Logistic Regression (beating baselines in the \"Alice\" competition)\n\nToday we are going to practice working with sparse matrices, training Logistic Regression models, and doing feature engineering. We will reproduce a couple of baselines in the [\"Catch Me If You Can: Intruder Detection through Webpage Session Tracking\"](https://www.kaggle.com/c/catch-me-if-you-can-intruder-detection-through-webpage-session-tracking2) (a.k.a. \"Alice\") Kaggle inclass competition. More credits will be given for beating a stronger baseline. \n\n**Your task:**\n 1. \"Follow me\". Complete the missing code and submit your answers via [the google-form](https://docs.google.com/forms/d/1V4lHXkjZvpDDvHAcnH6RuEQJecBaLo8zooxDl1_aP60). 14 credit max. for this part\n 2. \"Freeride\". Come up with good features to beat the baseline \"A4 baseline 3\". You need to name your [team](https://www.kaggle.com/c/catch-me-if-you-can-intruder-detection-through-webpage-session-tracking2/team) (out of 1 person) in full accordance with the course rating. You can think of it as a part of the assignment. 10 more credits for beating the mentioned baseline and correct team naming. "
    },
    {
      "metadata": {},
      "cell_type": "markdown",
      "source": "# Part 1. Follow me"
    },
    {
      "metadata": {},
      "cell_type": "markdown",
      "source": "<img src='../../img/followme_alice.png' width=50%>\n\n*image credit [@muradosmann](https://www.instagram.com/muradosmann/?hl=en)*"
    },
    {
      "metadata": {
        "trusted": true
      },
      "cell_type": "code",
      "source": "# Import libraries and set desired options\nimport pickle\nimport numpy as np\nimport pandas as pd\nfrom scipy.sparse import csr_matrix, hstack\nfrom sklearn.preprocessing import StandardScaler\nfrom sklearn.metrics import roc_auc_score\nfrom sklearn.linear_model import LogisticRegression\nfrom matplotlib import pyplot as plt\nimport seaborn as sns\nsns.set()",
      "execution_count": 1,
      "outputs": [
        {
          "output_type": "stream",
          "text": "/home/nbuser/anaconda3_420/lib/python3.5/site-packages/matplotlib/font_manager.py:281: UserWarning: Matplotlib is building the font cache using fc-list. This may take a moment.\n  'Matplotlib is building the font cache using fc-list. '\n",
          "name": "stderr"
        }
      ]
    },
    {
      "metadata": {},
      "cell_type": "markdown",
      "source": "##### Problem description\n\nIn this competition, we''ll analyze the sequence of websites consequently visited by a particular person and try to predict whether this person is Alice or someone else. As a metric we will use [ROC AUC](https://en.wikipedia.org/wiki/Receiver_operating_characteristic)."
    },
    {
      "metadata": {},
      "cell_type": "markdown",
      "source": "### 1. Data Downloading and Transformation\nRegister on [Kaggle](www.kaggle.com), if you have not done it before.\nGo to the competition [page](https://inclass.kaggle.com/c/catch-me-if-you-can-intruder-detection-through-webpage-session-tracking2) and download the data.\n\nFirst, read the training and test sets. Then we'll explore the data in hand and do a couple of simple exercises. "
    },
    {
      "metadata": {
        "scrolled": true,
        "trusted": true
      },
      "cell_type": "code",
      "source": "# Read the training and test data sets, change paths if needed\ntrain_df = pd.read_csv('data/train_sessions.csv',\n                       index_col='session_id')\ntest_df = pd.read_csv('data/test_sessions.csv',\n                      index_col='session_id')\n\n# Convert time1, ..., time10 columns to datetime type\ntimes = ['time%s' % i for i in range(1, 11)]\ntrain_df[times] = train_df[times].apply(pd.to_datetime)\ntest_df[times] = test_df[times].apply(pd.to_datetime)\n\n# Sort the data by time\ntrain_df = train_df.sort_values(by='time1')\n\n# Look at the first rows of the training set\ntrain_df.head()",
      "execution_count": 2,
      "outputs": [
        {
          "output_type": "execute_result",
          "execution_count": 2,
          "data": {
            "text/html": "<div>\n<table border=\"1\" class=\"dataframe\">\n  <thead>\n    <tr style=\"text-align: right;\">\n      <th></th>\n      <th>site1</th>\n      <th>time1</th>\n      <th>site2</th>\n      <th>time2</th>\n      <th>site3</th>\n      <th>time3</th>\n      <th>site4</th>\n      <th>time4</th>\n      <th>site5</th>\n      <th>time5</th>\n      <th>...</th>\n      <th>time6</th>\n      <th>site7</th>\n      <th>time7</th>\n      <th>site8</th>\n      <th>time8</th>\n      <th>site9</th>\n      <th>time9</th>\n      <th>site10</th>\n      <th>time10</th>\n      <th>target</th>\n    </tr>\n    <tr>\n      <th>session_id</th>\n      <th></th>\n      <th></th>\n      <th></th>\n      <th></th>\n      <th></th>\n      <th></th>\n      <th></th>\n      <th></th>\n      <th></th>\n      <th></th>\n      <th></th>\n      <th></th>\n      <th></th>\n      <th></th>\n      <th></th>\n      <th></th>\n      <th></th>\n      <th></th>\n      <th></th>\n      <th></th>\n      <th></th>\n    </tr>\n  </thead>\n  <tbody>\n    <tr>\n      <th>21669</th>\n      <td>56</td>\n      <td>2013-01-12 08:05:57</td>\n      <td>55.0</td>\n      <td>2013-01-12 08:05:57</td>\n      <td>NaN</td>\n      <td>NaT</td>\n      <td>NaN</td>\n      <td>NaT</td>\n      <td>NaN</td>\n      <td>NaT</td>\n      <td>...</td>\n      <td>NaT</td>\n      <td>NaN</td>\n      <td>NaT</td>\n      <td>NaN</td>\n      <td>NaT</td>\n      <td>NaN</td>\n      <td>NaT</td>\n      <td>NaN</td>\n      <td>NaT</td>\n      <td>0</td>\n    </tr>\n    <tr>\n      <th>54843</th>\n      <td>56</td>\n      <td>2013-01-12 08:37:23</td>\n      <td>55.0</td>\n      <td>2013-01-12 08:37:23</td>\n      <td>56.0</td>\n      <td>2013-01-12 09:07:07</td>\n      <td>55.0</td>\n      <td>2013-01-12 09:07:09</td>\n      <td>NaN</td>\n      <td>NaT</td>\n      <td>...</td>\n      <td>NaT</td>\n      <td>NaN</td>\n      <td>NaT</td>\n      <td>NaN</td>\n      <td>NaT</td>\n      <td>NaN</td>\n      <td>NaT</td>\n      <td>NaN</td>\n      <td>NaT</td>\n      <td>0</td>\n    </tr>\n    <tr>\n      <th>77292</th>\n      <td>946</td>\n      <td>2013-01-12 08:50:13</td>\n      <td>946.0</td>\n      <td>2013-01-12 08:50:14</td>\n      <td>951.0</td>\n      <td>2013-01-12 08:50:15</td>\n      <td>946.0</td>\n      <td>2013-01-12 08:50:15</td>\n      <td>946.0</td>\n      <td>2013-01-12 08:50:16</td>\n      <td>...</td>\n      <td>2013-01-12 08:50:16</td>\n      <td>948.0</td>\n      <td>2013-01-12 08:50:16</td>\n      <td>784.0</td>\n      <td>2013-01-12 08:50:16</td>\n      <td>949.0</td>\n      <td>2013-01-12 08:50:17</td>\n      <td>946.0</td>\n      <td>2013-01-12 08:50:17</td>\n      <td>0</td>\n    </tr>\n    <tr>\n      <th>114021</th>\n      <td>945</td>\n      <td>2013-01-12 08:50:17</td>\n      <td>948.0</td>\n      <td>2013-01-12 08:50:17</td>\n      <td>949.0</td>\n      <td>2013-01-12 08:50:18</td>\n      <td>948.0</td>\n      <td>2013-01-12 08:50:18</td>\n      <td>945.0</td>\n      <td>2013-01-12 08:50:18</td>\n      <td>...</td>\n      <td>2013-01-12 08:50:18</td>\n      <td>947.0</td>\n      <td>2013-01-12 08:50:19</td>\n      <td>945.0</td>\n      <td>2013-01-12 08:50:19</td>\n      <td>946.0</td>\n      <td>2013-01-12 08:50:19</td>\n      <td>946.0</td>\n      <td>2013-01-12 08:50:20</td>\n      <td>0</td>\n    </tr>\n    <tr>\n      <th>146670</th>\n      <td>947</td>\n      <td>2013-01-12 08:50:20</td>\n      <td>950.0</td>\n      <td>2013-01-12 08:50:20</td>\n      <td>948.0</td>\n      <td>2013-01-12 08:50:20</td>\n      <td>947.0</td>\n      <td>2013-01-12 08:50:21</td>\n      <td>950.0</td>\n      <td>2013-01-12 08:50:21</td>\n      <td>...</td>\n      <td>2013-01-12 08:50:21</td>\n      <td>946.0</td>\n      <td>2013-01-12 08:50:21</td>\n      <td>951.0</td>\n      <td>2013-01-12 08:50:22</td>\n      <td>946.0</td>\n      <td>2013-01-12 08:50:22</td>\n      <td>947.0</td>\n      <td>2013-01-12 08:50:22</td>\n      <td>0</td>\n    </tr>\n  </tbody>\n</table>\n<p>5 rows × 21 columns</p>\n</div>",
            "text/plain": "            site1               time1  site2               time2  site3  \\\nsession_id                                                                \n21669          56 2013-01-12 08:05:57   55.0 2013-01-12 08:05:57    NaN   \n54843          56 2013-01-12 08:37:23   55.0 2013-01-12 08:37:23   56.0   \n77292         946 2013-01-12 08:50:13  946.0 2013-01-12 08:50:14  951.0   \n114021        945 2013-01-12 08:50:17  948.0 2013-01-12 08:50:17  949.0   \n146670        947 2013-01-12 08:50:20  950.0 2013-01-12 08:50:20  948.0   \n\n                         time3  site4               time4  site5  \\\nsession_id                                                         \n21669                      NaT    NaN                 NaT    NaN   \n54843      2013-01-12 09:07:07   55.0 2013-01-12 09:07:09    NaN   \n77292      2013-01-12 08:50:15  946.0 2013-01-12 08:50:15  946.0   \n114021     2013-01-12 08:50:18  948.0 2013-01-12 08:50:18  945.0   \n146670     2013-01-12 08:50:20  947.0 2013-01-12 08:50:21  950.0   \n\n                         time5  ...                 time6  site7  \\\nsession_id                      ...                                \n21669                      NaT  ...                   NaT    NaN   \n54843                      NaT  ...                   NaT    NaN   \n77292      2013-01-12 08:50:16  ...   2013-01-12 08:50:16  948.0   \n114021     2013-01-12 08:50:18  ...   2013-01-12 08:50:18  947.0   \n146670     2013-01-12 08:50:21  ...   2013-01-12 08:50:21  946.0   \n\n                         time7  site8               time8  site9  \\\nsession_id                                                         \n21669                      NaT    NaN                 NaT    NaN   \n54843                      NaT    NaN                 NaT    NaN   \n77292      2013-01-12 08:50:16  784.0 2013-01-12 08:50:16  949.0   \n114021     2013-01-12 08:50:19  945.0 2013-01-12 08:50:19  946.0   \n146670     2013-01-12 08:50:21  951.0 2013-01-12 08:50:22  946.0   \n\n                         time9 site10              time10 target  \nsession_id                                                        \n21669                      NaT    NaN                 NaT      0  \n54843                      NaT    NaN                 NaT      0  \n77292      2013-01-12 08:50:17  946.0 2013-01-12 08:50:17      0  \n114021     2013-01-12 08:50:19  946.0 2013-01-12 08:50:20      0  \n146670     2013-01-12 08:50:22  947.0 2013-01-12 08:50:22      0  \n\n[5 rows x 21 columns]"
          },
          "metadata": {}
        }
      ]
    },
    {
      "metadata": {},
      "cell_type": "markdown",
      "source": "The training data set contains the following features:\n\n- **site1** – id of the first visited website in the session\n- **time1** – visiting time for the first website in the session\n- ...\n- **site10** – id of the tenth visited website in the session\n- **time10** – visiting time for the tenth website in the session\n- **target** – target variable, 1 for Alice's sessions, and 0 for the other users' sessions\n    \nUser sessions are chosen in the way that they are shorter than 30 min. long and contain no more than 10 websites. I.e. a session is considered over either if a user has visited 10 websites or if a session has lasted over 30 minutes.\n\nThere are some empty values in the table, it means that some sessions contain less than ten websites. Replace empty values with 0 and change columns types to integer. Also load the websites dictionary and check how it looks like:"
    },
    {
      "metadata": {
        "trusted": true
      },
      "cell_type": "code",
      "source": "# Change site1, ..., site10 columns type to integer and fill NA-values with zeros\nsites = ['site%s' % i for i in range(1, 11)]\ntrain_df[sites] = train_df[sites].fillna(0).astype(np.uint16)\ntest_df[sites] = test_df[sites].fillna(0).astype(np.uint16)\n\n# Load websites dictionary\nwith open(r\"data/site_dic.pkl\", \"rb\") as input_file:\n    site_dict = pickle.load(input_file)\n\n# Create dataframe for the dictionary\nsites_dict = pd.DataFrame(list(site_dict.keys()), index=list(site_dict.values()), columns=['site'])\nprint(u'Websites total:', sites_dict.shape[0])\nsites_dict.head()",
      "execution_count": 3,
      "outputs": [
        {
          "output_type": "stream",
          "text": "Websites total: 48371\n",
          "name": "stdout"
        },
        {
          "output_type": "execute_result",
          "execution_count": 3,
          "data": {
            "text/html": "<div>\n<table border=\"1\" class=\"dataframe\">\n  <thead>\n    <tr style=\"text-align: right;\">\n      <th></th>\n      <th>site</th>\n    </tr>\n  </thead>\n  <tbody>\n    <tr>\n      <th>34904</th>\n      <td>ss.webring.com</td>\n    </tr>\n    <tr>\n      <th>7776</th>\n      <td>i1-js-14-3-01-11074-637194652-i.init.cedexis-r...</td>\n    </tr>\n    <tr>\n      <th>14589</th>\n      <td>assets.sudouest.fr</td>\n    </tr>\n    <tr>\n      <th>29954</th>\n      <td>www.u-bordeaux3.fr</td>\n    </tr>\n    <tr>\n      <th>47302</th>\n      <td>cid-f570957f3bd26194.users.storage.live.com</td>\n    </tr>\n  </tbody>\n</table>\n</div>",
            "text/plain": "                                                    site\n34904                                     ss.webring.com\n7776   i1-js-14-3-01-11074-637194652-i.init.cedexis-r...\n14589                                 assets.sudouest.fr\n29954                                 www.u-bordeaux3.fr\n47302        cid-f570957f3bd26194.users.storage.live.com"
          },
          "metadata": {}
        }
      ]
    },
    {
      "metadata": {},
      "cell_type": "markdown",
      "source": "#### 4.1. What are the dimensions of the training and test sets (in exactly this order)? \n*For discussions, please stick to [ODS Slack](https://opendatascience.slack.com/), channel #mlcourse_ai, pinned thread __#a4_q1__*\n\n- (82797, 20) and (253561, 20)\n- (82797, 20) and (253561, 21)\n- **(253561, 21) and (82797, 20) <=** \n- (253561, 20) and (82797, 20)"
    },
    {
      "metadata": {
        "trusted": true
      },
      "cell_type": "code",
      "source": "train_df.shape, test_df.shape",
      "execution_count": 4,
      "outputs": [
        {
          "output_type": "execute_result",
          "execution_count": 4,
          "data": {
            "text/plain": "((253561, 21), (82797, 20))"
          },
          "metadata": {}
        }
      ]
    },
    {
      "metadata": {},
      "cell_type": "markdown",
      "source": "### 2. Brief Exploratory Data Analysis"
    },
    {
      "metadata": {},
      "cell_type": "markdown",
      "source": "Before we start training models, we have to perform Exploratory Data Analysis ([EDA](https://en.wikipedia.org/wiki/Exploratory_data_analysis)). Today, we are going to perform a shorter version, but we will use other techniques as we move forward. Let's check which websites in the training data set are the most visited. As you can see, they are Google services and a bioinformatics website (a website with 'zero'-index is our missed values, just ignore it):"
    },
    {
      "metadata": {
        "trusted": true
      },
      "cell_type": "code",
      "source": "# Top websites in the training data set\ntop_sites = pd.Series(train_df[sites].values.flatten() # flatten returns a copy of the array collapsed into one dimension.\n                     ).value_counts().sort_values(ascending=False).head(5)\nprint(top_sites)\nsites_dict.loc[top_sites.drop(0).index]",
      "execution_count": 5,
      "outputs": [
        {
          "output_type": "stream",
          "text": "21     123776\n0      122730\n23      87619\n782     77055\n22      58258\ndtype: int64\n",
          "name": "stdout"
        },
        {
          "output_type": "execute_result",
          "execution_count": 5,
          "data": {
            "text/html": "<div>\n<table border=\"1\" class=\"dataframe\">\n  <thead>\n    <tr style=\"text-align: right;\">\n      <th></th>\n      <th>site</th>\n    </tr>\n  </thead>\n  <tbody>\n    <tr>\n      <th>21</th>\n      <td>www.google.fr</td>\n    </tr>\n    <tr>\n      <th>23</th>\n      <td>www.google.com</td>\n    </tr>\n    <tr>\n      <th>782</th>\n      <td>annotathon.org</td>\n    </tr>\n    <tr>\n      <th>22</th>\n      <td>apis.google.com</td>\n    </tr>\n  </tbody>\n</table>\n</div>",
            "text/plain": "                site\n21     www.google.fr\n23    www.google.com\n782   annotathon.org\n22   apis.google.com"
          },
          "metadata": {}
        }
      ]
    },
    {
      "metadata": {},
      "cell_type": "markdown",
      "source": "##### 4.2. What kind of websites does Alice visit the most?\n*For discussions, please stick to [ODS Slack](https://opendatascience.slack.com/), channel #mlcourse_ai, pinned thread __#a4_q2__*\n\n- **videohostings <=** \n- social networks\n- torrent trackers\n- news"
    },
    {
      "metadata": {
        "trusted": true
      },
      "cell_type": "code",
      "source": "top_alice_sites = pd.Series(train_df.loc[train_df.target == 1, sites].values.flatten() # flatten returns a copy of the array collapsed into one dimension.\n                     ).value_counts().sort_values(ascending=False).head(5)\nprint(top_alice_sites)\nsites_dict.loc[top_alice_sites.index]",
      "execution_count": 6,
      "outputs": [
        {
          "output_type": "stream",
          "text": "77    1382\n80    1354\n76    1307\n29     897\n21     857\ndtype: int64\n",
          "name": "stdout"
        },
        {
          "output_type": "execute_result",
          "execution_count": 6,
          "data": {
            "text/html": "<div>\n<table border=\"1\" class=\"dataframe\">\n  <thead>\n    <tr style=\"text-align: right;\">\n      <th></th>\n      <th>site</th>\n    </tr>\n  </thead>\n  <tbody>\n    <tr>\n      <th>77</th>\n      <td>i1.ytimg.com</td>\n    </tr>\n    <tr>\n      <th>80</th>\n      <td>s.youtube.com</td>\n    </tr>\n    <tr>\n      <th>76</th>\n      <td>www.youtube.com</td>\n    </tr>\n    <tr>\n      <th>29</th>\n      <td>www.facebook.com</td>\n    </tr>\n    <tr>\n      <th>21</th>\n      <td>www.google.fr</td>\n    </tr>\n  </tbody>\n</table>\n</div>",
            "text/plain": "                site\n77      i1.ytimg.com\n80     s.youtube.com\n76   www.youtube.com\n29  www.facebook.com\n21     www.google.fr"
          },
          "metadata": {}
        }
      ]
    },
    {
      "metadata": {},
      "cell_type": "markdown",
      "source": "Now let us look at the timestamps and try to characterize sessions as timeframes:"
    },
    {
      "metadata": {
        "trusted": true
      },
      "cell_type": "code",
      "source": "train_df.columns",
      "execution_count": 7,
      "outputs": [
        {
          "output_type": "execute_result",
          "execution_count": 7,
          "data": {
            "text/plain": "Index(['site1', 'time1', 'site2', 'time2', 'site3', 'time3', 'site4', 'time4',\n       'site5', 'time5', 'site6', 'time6', 'site7', 'time7', 'site8', 'time8',\n       'site9', 'time9', 'site10', 'time10', 'target'],\n      dtype='object')"
          },
          "metadata": {}
        }
      ]
    },
    {
      "metadata": {
        "trusted": true
      },
      "cell_type": "code",
      "source": "# Create a separate dataframe where we will work with timestamps\ntime_df = pd.DataFrame(index=train_df.index)\ntime_df['target'] = train_df['target']\n\n# Find sessions' starting and ending\ntime_df['min'] = train_df[times].min(axis=1)\ntime_df['max'] = train_df[times].max(axis=1)\n\n# Calculate sessions' duration in seconds\ntime_df['seconds'] = (time_df['max'].subtract(time_df['min'])).dt.seconds #/ np.timedelta64(1, 's')\n\ntime_df.head()",
      "execution_count": 8,
      "outputs": [
        {
          "output_type": "execute_result",
          "execution_count": 8,
          "data": {
            "text/html": "<div>\n<table border=\"1\" class=\"dataframe\">\n  <thead>\n    <tr style=\"text-align: right;\">\n      <th></th>\n      <th>target</th>\n      <th>min</th>\n      <th>max</th>\n      <th>seconds</th>\n    </tr>\n    <tr>\n      <th>session_id</th>\n      <th></th>\n      <th></th>\n      <th></th>\n      <th></th>\n    </tr>\n  </thead>\n  <tbody>\n    <tr>\n      <th>21669</th>\n      <td>0</td>\n      <td>2013-01-12 08:05:57</td>\n      <td>2013-01-12 08:05:57</td>\n      <td>0</td>\n    </tr>\n    <tr>\n      <th>54843</th>\n      <td>0</td>\n      <td>2013-01-12 08:37:23</td>\n      <td>2013-01-12 09:07:09</td>\n      <td>1786</td>\n    </tr>\n    <tr>\n      <th>77292</th>\n      <td>0</td>\n      <td>2013-01-12 08:50:13</td>\n      <td>2013-01-12 08:50:17</td>\n      <td>4</td>\n    </tr>\n    <tr>\n      <th>114021</th>\n      <td>0</td>\n      <td>2013-01-12 08:50:17</td>\n      <td>2013-01-12 08:50:20</td>\n      <td>3</td>\n    </tr>\n    <tr>\n      <th>146670</th>\n      <td>0</td>\n      <td>2013-01-12 08:50:20</td>\n      <td>2013-01-12 08:50:22</td>\n      <td>2</td>\n    </tr>\n  </tbody>\n</table>\n</div>",
            "text/plain": "            target                 min                 max  seconds\nsession_id                                                         \n21669            0 2013-01-12 08:05:57 2013-01-12 08:05:57        0\n54843            0 2013-01-12 08:37:23 2013-01-12 09:07:09     1786\n77292            0 2013-01-12 08:50:13 2013-01-12 08:50:17        4\n114021           0 2013-01-12 08:50:17 2013-01-12 08:50:20        3\n146670           0 2013-01-12 08:50:20 2013-01-12 08:50:22        2"
          },
          "metadata": {}
        }
      ]
    },
    {
      "metadata": {},
      "cell_type": "markdown",
      "source": "In order to perform the next task, generate descriptive statistics as you did in the first assignment.\n\n##### 4.3. Select all correct statements:\n*For discussions, please stick to [ODS Slack](https://opendatascience.slack.com/), channel #mlcourse_ai, pinned thread __#a4_q3__*\n\n- **on average, Alice's session is shorter than that of other users <=** \n- more than 1% of all sessions in the dataset belong to Alice\n- **minimum and maximum durations of Alice's and other users' sessions are approximately the same <=**  \n- variation about the mean session duration for all users (including Alice) is approximately the same\n- **less than a quarter of Alice's sessions are greater than or equal to 40 seconds <=**  "
    },
    {
      "metadata": {
        "trusted": true
      },
      "cell_type": "code",
      "source": "time_df.groupby('target').describe()",
      "execution_count": 9,
      "outputs": [
        {
          "output_type": "execute_result",
          "execution_count": 9,
          "data": {
            "text/html": "<div>\n<table border=\"1\" class=\"dataframe\">\n  <thead>\n    <tr style=\"text-align: right;\">\n      <th></th>\n      <th></th>\n      <th>seconds</th>\n    </tr>\n    <tr>\n      <th>target</th>\n      <th></th>\n      <th></th>\n    </tr>\n  </thead>\n  <tbody>\n    <tr>\n      <th rowspan=\"8\" valign=\"top\">0</th>\n      <th>count</th>\n      <td>251264.000000</td>\n    </tr>\n    <tr>\n      <th>mean</th>\n      <td>139.282372</td>\n    </tr>\n    <tr>\n      <th>std</th>\n      <td>296.653518</td>\n    </tr>\n    <tr>\n      <th>min</th>\n      <td>0.000000</td>\n    </tr>\n    <tr>\n      <th>25%</th>\n      <td>7.000000</td>\n    </tr>\n    <tr>\n      <th>50%</th>\n      <td>28.000000</td>\n    </tr>\n    <tr>\n      <th>75%</th>\n      <td>114.000000</td>\n    </tr>\n    <tr>\n      <th>max</th>\n      <td>1800.000000</td>\n    </tr>\n    <tr>\n      <th rowspan=\"8\" valign=\"top\">1</th>\n      <th>count</th>\n      <td>2297.000000</td>\n    </tr>\n    <tr>\n      <th>mean</th>\n      <td>52.296474</td>\n    </tr>\n    <tr>\n      <th>std</th>\n      <td>153.309014</td>\n    </tr>\n    <tr>\n      <th>min</th>\n      <td>0.000000</td>\n    </tr>\n    <tr>\n      <th>25%</th>\n      <td>4.000000</td>\n    </tr>\n    <tr>\n      <th>50%</th>\n      <td>11.000000</td>\n    </tr>\n    <tr>\n      <th>75%</th>\n      <td>38.000000</td>\n    </tr>\n    <tr>\n      <th>max</th>\n      <td>1763.000000</td>\n    </tr>\n  </tbody>\n</table>\n</div>",
            "text/plain": "                    seconds\ntarget                     \n0      count  251264.000000\n       mean      139.282372\n       std       296.653518\n       min         0.000000\n       25%         7.000000\n       50%        28.000000\n       75%       114.000000\n       max      1800.000000\n1      count    2297.000000\n       mean       52.296474\n       std       153.309014\n       min         0.000000\n       25%         4.000000\n       50%        11.000000\n       75%        38.000000\n       max      1763.000000"
          },
          "metadata": {}
        }
      ]
    },
    {
      "metadata": {
        "trusted": true
      },
      "cell_type": "code",
      "source": "100 * time_df[(time_df.target == 1) & (time_df.seconds >= 40)]. shape[0] / \\\ntime_df[(time_df.target == 1)].shape[0]",
      "execution_count": 10,
      "outputs": [
        {
          "output_type": "execute_result",
          "execution_count": 10,
          "data": {
            "text/plain": "24.11841532433609"
          },
          "metadata": {}
        }
      ]
    },
    {
      "metadata": {},
      "cell_type": "markdown",
      "source": "In order to train our first model, we need to prepare the data. First of all, exclude the target variable from the training set. Now both training and test sets have the same number of columns, therefore aggregate them into one dataframe.  Thus, all transformations will be performed simultaneously on both training and test data sets. \n\nOn the one hand, it leads to the fact that both data sets have one feature space (you don't have to worry that you forgot to transform a feature in some data sets). On the other hand, processing time will increase. \nFor the enormously large sets it might turn out that it is impossible to transform both data sets simultaneously (and sometimes you have to split your transformations into several stages only for train/test data set).\nIn our case, with this particular data set, we are going to perform all the transformations for the whole united dataframe at once, and before training the model or making predictions we will just take its appropriate part."
    },
    {
      "metadata": {
        "trusted": true
      },
      "cell_type": "code",
      "source": "# Our target variable\ny_train = train_df['target']\n\n# United dataframe of the initial data \nfull_df = pd.concat([train_df.drop('target', axis=1), test_df])\n\n# Index to split the training and test data sets\nidx_split = train_df.shape[0]",
      "execution_count": 11,
      "outputs": []
    },
    {
      "metadata": {},
      "cell_type": "markdown",
      "source": "For the very basic model, we will use only the visited websites in the session (but we will not take into account timestamp features). The point behind this data selection is: *Alice has her favorite sites, and the more often you see these sites in the session, the higher probability that this is Alice's session, and vice versa.*\n\nLet us prepare the data, we will take only features `site1, site2, ... , site10` from the whole dataframe. Keep in mind that the missing values are replaced with zero. Here is how the first rows of the dataframe look like:"
    },
    {
      "metadata": {
        "trusted": true
      },
      "cell_type": "code",
      "source": "# Dataframe with indices of visited websites in session\nfull_sites = full_df[sites]\nfull_sites.head()",
      "execution_count": 12,
      "outputs": [
        {
          "output_type": "execute_result",
          "execution_count": 12,
          "data": {
            "text/html": "<div>\n<table border=\"1\" class=\"dataframe\">\n  <thead>\n    <tr style=\"text-align: right;\">\n      <th></th>\n      <th>site1</th>\n      <th>site2</th>\n      <th>site3</th>\n      <th>site4</th>\n      <th>site5</th>\n      <th>site6</th>\n      <th>site7</th>\n      <th>site8</th>\n      <th>site9</th>\n      <th>site10</th>\n    </tr>\n    <tr>\n      <th>session_id</th>\n      <th></th>\n      <th></th>\n      <th></th>\n      <th></th>\n      <th></th>\n      <th></th>\n      <th></th>\n      <th></th>\n      <th></th>\n      <th></th>\n    </tr>\n  </thead>\n  <tbody>\n    <tr>\n      <th>21669</th>\n      <td>56</td>\n      <td>55</td>\n      <td>0</td>\n      <td>0</td>\n      <td>0</td>\n      <td>0</td>\n      <td>0</td>\n      <td>0</td>\n      <td>0</td>\n      <td>0</td>\n    </tr>\n    <tr>\n      <th>54843</th>\n      <td>56</td>\n      <td>55</td>\n      <td>56</td>\n      <td>55</td>\n      <td>0</td>\n      <td>0</td>\n      <td>0</td>\n      <td>0</td>\n      <td>0</td>\n      <td>0</td>\n    </tr>\n    <tr>\n      <th>77292</th>\n      <td>946</td>\n      <td>946</td>\n      <td>951</td>\n      <td>946</td>\n      <td>946</td>\n      <td>945</td>\n      <td>948</td>\n      <td>784</td>\n      <td>949</td>\n      <td>946</td>\n    </tr>\n    <tr>\n      <th>114021</th>\n      <td>945</td>\n      <td>948</td>\n      <td>949</td>\n      <td>948</td>\n      <td>945</td>\n      <td>946</td>\n      <td>947</td>\n      <td>945</td>\n      <td>946</td>\n      <td>946</td>\n    </tr>\n    <tr>\n      <th>146670</th>\n      <td>947</td>\n      <td>950</td>\n      <td>948</td>\n      <td>947</td>\n      <td>950</td>\n      <td>952</td>\n      <td>946</td>\n      <td>951</td>\n      <td>946</td>\n      <td>947</td>\n    </tr>\n  </tbody>\n</table>\n</div>",
            "text/plain": "            site1  site2  site3  site4  site5  site6  site7  site8  site9  \\\nsession_id                                                                  \n21669          56     55      0      0      0      0      0      0      0   \n54843          56     55     56     55      0      0      0      0      0   \n77292         946    946    951    946    946    945    948    784    949   \n114021        945    948    949    948    945    946    947    945    946   \n146670        947    950    948    947    950    952    946    951    946   \n\n            site10  \nsession_id          \n21669            0  \n54843            0  \n77292          946  \n114021         946  \n146670         947  "
          },
          "metadata": {}
        }
      ]
    },
    {
      "metadata": {},
      "cell_type": "markdown",
      "source": "Sessions are sequences of website indices, and data in this representation is useless for machine learning method (just think, what happens if we switched all ids of all websites). \n\nAccording to our hypothesis (Alice has favorite websites), we need to transform this dataframe so each website has a corresponding feature (column) and its value is equal to number of this website visits in the session. It can be done in two lines:"
    },
    {
      "metadata": {
        "trusted": true
      },
      "cell_type": "code",
      "source": "# sequence of indices\nsites_flatten = full_sites.values.flatten()\n\n# and the matrix we are looking for \n# (make sure you understand which of the `csr_matrix` constructors is used here)\n# a further toy example will help you with it\nfull_sites_sparse = csr_matrix(([1] * sites_flatten.shape[0],\n                                sites_flatten,\n                                range(0, sites_flatten.shape[0]  + 10, 10)))[:, 1:]",
      "execution_count": 13,
      "outputs": []
    },
    {
      "metadata": {
        "trusted": true
      },
      "cell_type": "code",
      "source": "full_sites_sparse.shape",
      "execution_count": 14,
      "outputs": [
        {
          "output_type": "execute_result",
          "execution_count": 14,
          "data": {
            "text/plain": "(336358, 48371)"
          },
          "metadata": {}
        }
      ]
    },
    {
      "metadata": {},
      "cell_type": "markdown",
      "source": "If you understand what just happened here, then you can skip the next passage (perhaps, you can handle logistic regression too?), If not, then let us figure it out.\n\n### Important detour #1: Sparse Matrices\n\nLet us estimate how much memory it will require to store our data in the example above. Our united dataframe contains 336 thousand samples of 48 thousand integer features in each. It's easy to calculate the required amount of memory, roughly:\n\n$$336K * 48K * 8 bytes = 16M * 8 bytes = 128 GB,$$\n\n(that's the [exact](http://www.wolframalpha.com/input/?i=336358*48371*8+bytes) value). Obviously, ordinary mortals have no such volumes (strictly speaking, Python may allow you to create such a matrix, but it will not be easy to do anything with it). The interesting fact is that most of the elements of our matrix are zeros. If we count non-zero elements, then it will be about 1.8 million, i.е. slightly more than 10% of all matrix elements. Such a matrix, where most elements are zeros, is called sparse, and the ratio between the number of zero elements and the total number of elements is called the sparseness of the matrix.\n\nFor the work with such matrices you can use `scipy.sparse` library, check [documentation](https://docs.scipy.org/doc/scipy-0.18.1/reference/sparse.html) to understand what possible types of sparse matrices are, how to work with them and in which cases their usage is most effective. You can learn how they are arranged, for example, in Wikipedia [article](https://en.wikipedia.org/wiki/Sparse_matrix).\nNote, that a sparse matrix contains only non-zero elements, and you can get the allocated memory size like this (significant memory savings are obvious):"
    },
    {
      "metadata": {
        "trusted": true
      },
      "cell_type": "code",
      "source": "# How much memory does a sparse matrix occupy?\nprint('{0} elements * {1} bytes = {2} bytes'.format(full_sites_sparse.count_nonzero(), 8, \n                                                    full_sites_sparse.count_nonzero() * 8))\n# Or just like this:\nprint('sparse_matrix_size = {0} bytes'.format(full_sites_sparse.data.nbytes))",
      "execution_count": 15,
      "outputs": [
        {
          "output_type": "stream",
          "text": "1866898 elements * 8 bytes = 14935184 bytes\nsparse_matrix_size = 14935184 bytes\n",
          "name": "stdout"
        }
      ]
    },
    {
      "metadata": {},
      "cell_type": "markdown",
      "source": "Let us explore how the matrix with the websites has been formed using a mini example. Suppose we have the following table with user sessions:\n\n| id | site1 | site2 | site3 |\n|---|---|---|---|\n| 1 | 1 | 0 | 0 |\n| 2 | 1 | 3 | 1 |\n| 3 | 2 | 3 | 4 |\n\nThere are 3 sessions, and no more than 3 websites in each. Users visited four different sites in total (there are numbers from 1 to 4 in the table cells). And let us assume that the mapping is:\n\n 1. vk.com\n 2. habrahabr.ru \n 3. yandex.ru\n 4. ods.ai\n\nIf the user has visited less than 3 websites during the session, the last few values will be zero. We want to convert the original dataframe in a way that each session has a corresponding row which shows the number of visits to each particular site. I.e. we want to transform the previous table into the following form:\n\n| id | vk.com | habrahabr.ru | yandex.ru | ods.ai |\n|---|---|---|---|---|\n| 1 | 1 | 0 | 0 | 0 |\n| 2 | 2 | 0 | 1 | 0 |\n| 3 | 0 | 1 | 1 | 1 |\n\n\nTo do this, use the constructor: `csr_matrix ((data, indices, indptr))` and create a frequency table (see examples, code and comments on the links above to see how it works). Here we set all the parameters explicitly for greater clarity:"
    },
    {
      "metadata": {
        "scrolled": true,
        "trusted": true
      },
      "cell_type": "code",
      "source": "# data, create the list of ones, length of which equal to the number of elements in the initial dataframe (9)\n# By summing the number of ones in the cell, we get the frequency,\n# number of visits to a particular site per session\ndata = [1] * 9\n\n# To do this, you need to correctly distribute the ones in cells\n# Indices - website ids, i.e. columns of a new matrix. We will sum ones up grouping them by sessions (ids)\nindices = [1, 0, 0, 1, 3, 1, 2, 3, 4]\n\n# Indices for the division into rows (sessions)\n# For example, line 0 is the elements between the indices [0; 3) - the rightmost value is not included\n# Line 1 is the elements between the indices [3; 6)\n# Line 2 is the elements between the indices [6; 9) \nindptr = [0, 3, 6, 9]\n\n# Aggregate these three variables into a tuple and compose a matrix\n# To display this matrix on the screen transform it into the usual \"dense\" matrix\ncsr_matrix((data, indices, indptr)).todense()",
      "execution_count": 16,
      "outputs": [
        {
          "output_type": "execute_result",
          "execution_count": 16,
          "data": {
            "text/plain": "matrix([[2, 1, 0, 0, 0],\n        [0, 2, 0, 1, 0],\n        [0, 0, 1, 1, 1]])"
          },
          "metadata": {}
        }
      ]
    },
    {
      "metadata": {},
      "cell_type": "markdown",
      "source": "As you might have noticed, there are not four columns in the resulting matrix (corresponding to number of different websites) but five. A zero column has been added, which indicates if the session was shorter (in our mini example we took sessions of three). This column is excessive and should be removed from the dataframe (do that yourself).\n\n##### 4.4. What is the sparseness of the matrix in our small example?\n*For discussions, please stick to [ODS Slack](https://opendatascience.slack.com/), channel #mlcourse_ai, pinned thread __#a4_q4__*\n\n- 42%\n- 47% \n- **50% <=**\n- 53%\n\n\n"
    },
    {
      "metadata": {
        "trusted": true
      },
      "cell_type": "code",
      "source": "100 * csr_matrix((data, indices, indptr))[:, 1 :].count_nonzero() / \\\n    (csr_matrix((data, indices, indptr))[:, 1 :].shape[0] * \\\n    csr_matrix((data, indices, indptr))[:, 1 :].shape[1])",
      "execution_count": 17,
      "outputs": [
        {
          "output_type": "execute_result",
          "execution_count": 17,
          "data": {
            "text/plain": "50.0"
          },
          "metadata": {}
        }
      ]
    },
    {
      "metadata": {},
      "cell_type": "markdown",
      "source": "Another benefit of using sparse matrices is that there are special implementations of both matrix operations and machine learning algorithms for them, which sometimes allows to significantly accelerate operations due to the data structure peculiarities. This applies to logistic regression as well. Now everything is ready to build our first model.\n\n### 3. Training the first model\n\nSo, we have an algorithm and data for it. Let us build our first model, using [logistic regression](http://scikit-learn.org/stable/modules/generated/sklearn.linear_model.LogisticRegression.html) implementation from ` Sklearn` with default parameters. We will use the first 90% of the data for training (the training data set is sorted by time), and the remaining 10% for validation. Let's write a simple function that returns the quality of the model and then train our first classifier:"
    },
    {
      "metadata": {
        "trusted": true
      },
      "cell_type": "code",
      "source": "def get_auc_lr_valid(X, y, C=1.0, seed=17, ratio=0.9):\n    # Split the data into the training and validation sets\n    idx = int(round(X.shape[0] * ratio))\n    # Classifier training\n    lr = LogisticRegression(C=C, random_state=seed, solver='liblinear').fit(X[:idx, :], y[:idx])\n    # Prediction for validation set\n    y_pred = lr.predict_proba(X[idx:, :])[:, 1]\n    # Calculate the quality\n    score = roc_auc_score(y[idx:], y_pred)\n    \n    return score",
      "execution_count": 18,
      "outputs": []
    },
    {
      "metadata": {
        "trusted": true
      },
      "cell_type": "code",
      "source": "%%time\n# Select the training set from the united dataframe (where we have the answers)\nX_train = full_sites_sparse[:idx_split, :]\n\n# Calculate metric on the validation set\nprint(get_auc_lr_valid(X_train, y_train))",
      "execution_count": 19,
      "outputs": [
        {
          "output_type": "stream",
          "text": "0.9195244077552184\nCPU times: user 41.2 s, sys: 3.54 s, total: 44.8 s\nWall time: 34.2 s\n",
          "name": "stdout"
        }
      ]
    },
    {
      "metadata": {},
      "cell_type": "markdown",
      "source": "The first model demonstrated the quality  of 0.92 on the validation set. Let's take it as the first baseline and starting point. To make a prediction on the test data set **we need to train the model again on the entire training data set** (until this moment, our model used only part of the data for training), which will increase its generalizing ability:"
    },
    {
      "metadata": {
        "trusted": true
      },
      "cell_type": "code",
      "source": "# Function for writing predictions to a file\ndef write_to_submission_file(predicted_labels, out_file,\n                             target='target', index_label=\"session_id\"):\n    predicted_df = pd.DataFrame(predicted_labels,\n                                index = np.arange(1, predicted_labels.shape[0] + 1),\n                                columns=[target])\n    predicted_df.to_csv(out_file, index_label=index_label)",
      "execution_count": 20,
      "outputs": []
    },
    {
      "metadata": {
        "trusted": true
      },
      "cell_type": "code",
      "source": "# Train the model on the whole training data set\n# Use random_state=17 for repeatability\n# Parameter C=1 by default, but here we set it explicitly\nlr = LogisticRegression(C=1.0, random_state=17, solver='liblinear').fit(X_train, y_train)\n\n# Make a prediction for test data set\nX_test = full_sites_sparse[idx_split:,:]\ny_test = lr.predict_proba(X_test)[:, 1]\n\n# Write it to the file which could be submitted\nwrite_to_submission_file(y_test, 'baseline_1.csv')",
      "execution_count": 21,
      "outputs": []
    },
    {
      "metadata": {},
      "cell_type": "markdown",
      "source": "If you follow these steps and upload the answer to the competition [page](https://inclass.kaggle.com/c/catch-me-if-you-can-intruder-detection-through-webpage-session-tracking2), you will get `ROC AUC = 0.90812` on the public leaderboard (\"A4 baseline 1\").\n\n### 4. Model Improvement: Feature Engineering\n\nNow we are going to try to improve the quality of our model by adding new features to the data. But first, answer the following question:\n\n##### 4.5. What years are present in the training and test datasets, if united?\n*For discussions, please stick to [ODS Slack](https://opendatascience.slack.com/), channel #mlcourse_ai, pinned thread __#a4_q5__*\n\n- 13 and 14\n- 2012 and 2013\n- **2013 and 2014 <=** \n- 2014 and 2015"
    },
    {
      "metadata": {
        "trusted": true
      },
      "cell_type": "code",
      "source": "full_df['time1'].dt.year.unique()",
      "execution_count": 22,
      "outputs": [
        {
          "output_type": "execute_result",
          "execution_count": 22,
          "data": {
            "text/plain": "array([2013, 2014])"
          },
          "metadata": {}
        }
      ]
    },
    {
      "metadata": {},
      "cell_type": "markdown",
      "source": "Create a feature that will be a number in YYYYMM format from the date when the session was held, for example 201407 -- year 2014 and 7th month. Thus, we will take into account the monthly [linear trend](http://people.duke.edu/~rnau/411trend.htm) for the entire period of the data provided."
    },
    {
      "metadata": {
        "trusted": true
      },
      "cell_type": "code",
      "source": "# Dataframe for new features\nfull_new_feat = pd.DataFrame(index=full_df.index)\n\n# Add start_month feature\nfull_new_feat['start_month'] = full_df['time1'].apply(lambda ts: \n                                                      100 * ts.year + ts.month).astype('float64')",
      "execution_count": 23,
      "outputs": []
    },
    {
      "metadata": {},
      "cell_type": "markdown",
      "source": "##### 4.6. Plot the graph of the number of Alice sessions versus the new feature, start_month. Choose the correct statement:\n\n*For discussions, please stick to [ODS Slack](https://opendatascience.slack.com/), channel #mlcourse_ai, pinned thread __#a4_q6__*\n\n- Alice wasn't online at all for the entire period\n- From the beginning of 2013 to mid-2014, the number of Alice's sessions per month decreased\n- The number of Alice's sessions per month is generally constant for the entire period\n- **From the beginning of 2013 to mid-2014, the number of Alice's sessions per month increased <= **\n\n*Hint: the graph will be more explicit if you treat `start_month` as a categorical ordinal variable*."
    },
    {
      "metadata": {
        "trusted": true
      },
      "cell_type": "code",
      "source": "pd.concat([full_new_feat[:idx_split].astype(int), y_train], axis=1).\\\n    groupby('start_month').target.sum().plot(kind='bar', figsize=(10, 5));",
      "execution_count": 24,
      "outputs": [
        {
          "output_type": "display_data",
          "data": {
            "image/png": "[encoded data removed]",
            "text/plain": "<matplotlib.figure.Figure at 0x7f40047a2be0>"
          },
          "metadata": {}
        }
      ]
    },
    {
      "metadata": {
        "trusted": true
      },
      "cell_type": "code",
      "source": "# 201701 [1,0,1,0,1,1,1,0,0]\n# 201701 [0,0,0,1,1,0,1,1,0]\n# ...",
      "execution_count": 25,
      "outputs": []
    },
    {
      "metadata": {},
      "cell_type": "markdown",
      "source": "In this way, we have an illustration and thoughts about the usefulness of the new feature, add it to the training sample and check the quality of the new model:"
    },
    {
      "metadata": {
        "trusted": true
      },
      "cell_type": "code",
      "source": "# Add the new feature to the sparse matrix\ntmp = full_new_feat[['start_month']].values\nX_train = csr_matrix(hstack([full_sites_sparse[:idx_split,:], tmp[:idx_split,:]]))\n\n# Compute the metric on the validation set\nprint(get_auc_lr_valid(X_train, y_train))",
      "execution_count": 26,
      "outputs": [
        {
          "output_type": "stream",
          "text": "0.7508354860175162\n",
          "name": "stdout"
        }
      ]
    },
    {
      "metadata": {},
      "cell_type": "markdown",
      "source": "The quality of the model has decreased significantly. We added a feature that definitely seemed useful to us, but its usage only worsened the model. Why did it happen?\n\n### Important detour #2: is it necessary to scale features?\n\nHere we give an intuitive reasoning (a rigorous mathematical justification for one or another aspect in linear models you can easily find on the internet). Consider the features more closely: those of them that correspond to the number of visits to a particular web-site per session vary from 0 to 10. The feature `start_month` has a completely different range: from 201301 to 201412, this means the contribution of this variable is significantly greater than the others. It would seem that problem can be avoided if we put less weight in a linear combination of attributes in this case, but in our case logistic regression with regularization is used (by default, this parameter is `C = 1`), which penalizes the model the stronger the greater its weights are. Therefore, for linear methods with regularization, it is recommended to convert features to the same scale (you can read more about the regularization, for example, [here](https://habrahabr.ru/company/ods/blog/322076/)).\n\nOne way to do this is standardization: for each observation you need to subtract the average value of the feature and divide this difference by the standard deviation:\n\n$$ x^{*}_{i} = \\dfrac{x_{i} - \\mu_x}{\\sigma_x}$$\n\nThe following practical tips can be given:\n- It is recommended to scale features if they have essentially different ranges or different units of measurement (for example, the country's population is indicated in units, and the country's GNP in trillions)\n- Scale features if you do not have a reason/expert opinion to give a greater weight to any of them\n- Scaling can be excessive if the ranges of some of your features differ from each other, but they are in the same system of units (for example, the proportion of middle-aged people and people over 80 among the entire population)\n- If you want to get an interpreted model, then build a model without regularization and scaling (most likely, its quality will be worse)\n- Binary features (which take only values of 0 or 1) are usually left without conversion, (but)\n- If the quality of the model is crucial, try different options and select one where the quality is better\n\nGetting back to `start_month`, let us rescale the new feature and train the model again. This time the quality has increased:"
    },
    {
      "metadata": {
        "trusted": true
      },
      "cell_type": "code",
      "source": "# Add the new standardized feature to the sparse matrix\ntmp = StandardScaler().fit_transform(full_new_feat[['start_month']])\nX_train = csr_matrix(hstack([full_sites_sparse[:idx_split,:], tmp[:idx_split,:]]))\n\n# Compute metric on the validation set\nprint(get_auc_lr_valid(X_train, y_train))",
      "execution_count": 27,
      "outputs": [
        {
          "output_type": "stream",
          "text": "0.9196986151568289\n",
          "name": "stdout"
        }
      ]
    },
    {
      "metadata": {},
      "cell_type": "markdown",
      "source": "##### 4.7. Add to the training set a new feature \"n_unique_sites\" – the number of the unique web-sites in a session. Calculate how the quality on the validation set has changed\n\n*For discussions, please stick to [ODS Slack](https://opendatascience.slack.com/), channel #mlcourse_ai, pinned thread __#a4_q7__*\n\n- **It has decreased. It is better not to add a new feature.** \n- It has not changed\n- It has decreased. The new feature should be scaled.\n- I am confused, and I do not know if it's necessary to scale a new feature.\n\n*Tips: use the nunique() function from `pandas`. Do not forget to include the start_month in the set. Will you scale a new feature? Why?*"
    },
    {
      "metadata": {
        "trusted": true
      },
      "cell_type": "code",
      "source": "n_unique_sites = full_df[sites].replace({0:np.nan}). \\\n    apply(lambda session: session.nunique(), axis=1)",
      "execution_count": 28,
      "outputs": []
    },
    {
      "metadata": {
        "trusted": true
      },
      "cell_type": "code",
      "source": "start_month = StandardScaler(). \\\n    fit_transform(full_new_feat[['start_month']])\n\nX_train = csr_matrix(hstack([\n    full_sites_sparse[:idx_split,:], \n    start_month[:idx_split,:],\n    n_unique_sites[:idx_split, None] # None - строка станет колонкой\n]))\n\nprint(get_auc_lr_valid(X_train, y_train))",
      "execution_count": 29,
      "outputs": [
        {
          "output_type": "stream",
          "text": "0.9167771691085895\n",
          "name": "stdout"
        }
      ]
    },
    {
      "metadata": {
        "trusted": true,
        "scrolled": true
      },
      "cell_type": "code",
      "source": "#БЕЗ МАШТАБИРОВАНИЯ (проверяем 3ий вариант)\nn_unique_sites_scaled = StandardScaler(). \\\n    fit_transform(n_unique_sites[:, None])",
      "execution_count": 30,
      "outputs": [
        {
          "output_type": "stream",
          "text": "/home/nbuser/anaconda3_420/lib/python3.5/site-packages/sklearn/utils/validation.py:475: DataConversionWarning: Data with input dtype int64 was converted to float64 by StandardScaler.\n  warnings.warn(msg, DataConversionWarning)\n",
          "name": "stderr"
        }
      ]
    },
    {
      "metadata": {
        "trusted": true
      },
      "cell_type": "code",
      "source": "X_train = csr_matrix(hstack([\n    full_sites_sparse[:idx_split,:], \n    start_month[:idx_split,:],\n    n_unique_sites_scaled[:idx_split, :] # None - строка станет колонкой\n]))\n\nprint(get_auc_lr_valid(X_train, y_train))",
      "execution_count": 31,
      "outputs": [
        {
          "output_type": "stream",
          "text": "0.9161725758300363\n",
          "name": "stdout"
        }
      ]
    },
    {
      "metadata": {},
      "cell_type": "markdown",
      "source": "So, the new feature has slightly decreased the quality, so we will not use it. Nevertheless, do not rush to throw features out because they haven't performed well. They can be useful in a combination with other features (for example, when a new feature is a ratio or a product of two others).\n\n#####  4.8. Add two new features: start_hour and morning. Calculate the metric. Which of these features gives an improvement?\n\nThe `start_hour` feature is the hour at which the session started (from 0 to 23), and the binary feature `morning` is equal to 1 if the session started in the morning and 0 if the session started later (we assume that morning means `start_hour` is equal to 11 or less).\n\nWill you scale the new features? Make your assumptions and test them in practice.\n\n*For discussions, please stick to [ODS Slack](https://opendatascience.slack.com/), channel #mlcourse_ai, pinned thread __#a4_q8__*\n\n- None of the features gave an improvement :(\n- `start_hour` feature gave an improvement, and `morning` did not\n- `morning` feature gave an improvement, and `start_hour` did not\n- Both features gave an improvement\n\n*Tip: find suitable functions for working with time series data in [documentation](http://pandas.pydata.org/pandas-docs/stable/api.html). Do not forget to include the `start_month` feature.*"
    },
    {
      "metadata": {
        "trusted": true
      },
      "cell_type": "code",
      "source": "full_df.head()",
      "execution_count": 32,
      "outputs": [
        {
          "output_type": "execute_result",
          "execution_count": 32,
          "data": {
            "text/html": "<div>\n<table border=\"1\" class=\"dataframe\">\n  <thead>\n    <tr style=\"text-align: right;\">\n      <th></th>\n      <th>site1</th>\n      <th>time1</th>\n      <th>site2</th>\n      <th>time2</th>\n      <th>site3</th>\n      <th>time3</th>\n      <th>site4</th>\n      <th>time4</th>\n      <th>site5</th>\n      <th>time5</th>\n      <th>site6</th>\n      <th>time6</th>\n      <th>site7</th>\n      <th>time7</th>\n      <th>site8</th>\n      <th>time8</th>\n      <th>site9</th>\n      <th>time9</th>\n      <th>site10</th>\n      <th>time10</th>\n    </tr>\n    <tr>\n      <th>session_id</th>\n      <th></th>\n      <th></th>\n      <th></th>\n      <th></th>\n      <th></th>\n      <th></th>\n      <th></th>\n      <th></th>\n      <th></th>\n      <th></th>\n      <th></th>\n      <th></th>\n      <th></th>\n      <th></th>\n      <th></th>\n      <th></th>\n      <th></th>\n      <th></th>\n      <th></th>\n      <th></th>\n    </tr>\n  </thead>\n  <tbody>\n    <tr>\n      <th>21669</th>\n      <td>56</td>\n      <td>2013-01-12 08:05:57</td>\n      <td>55</td>\n      <td>2013-01-12 08:05:57</td>\n      <td>0</td>\n      <td>NaT</td>\n      <td>0</td>\n      <td>NaT</td>\n      <td>0</td>\n      <td>NaT</td>\n      <td>0</td>\n      <td>NaT</td>\n      <td>0</td>\n      <td>NaT</td>\n      <td>0</td>\n      <td>NaT</td>\n      <td>0</td>\n      <td>NaT</td>\n      <td>0</td>\n      <td>NaT</td>\n    </tr>\n    <tr>\n      <th>54843</th>\n      <td>56</td>\n      <td>2013-01-12 08:37:23</td>\n      <td>55</td>\n      <td>2013-01-12 08:37:23</td>\n      <td>56</td>\n      <td>2013-01-12 09:07:07</td>\n      <td>55</td>\n      <td>2013-01-12 09:07:09</td>\n      <td>0</td>\n      <td>NaT</td>\n      <td>0</td>\n      <td>NaT</td>\n      <td>0</td>\n      <td>NaT</td>\n      <td>0</td>\n      <td>NaT</td>\n      <td>0</td>\n      <td>NaT</td>\n      <td>0</td>\n      <td>NaT</td>\n    </tr>\n    <tr>\n      <th>77292</th>\n      <td>946</td>\n      <td>2013-01-12 08:50:13</td>\n      <td>946</td>\n      <td>2013-01-12 08:50:14</td>\n      <td>951</td>\n      <td>2013-01-12 08:50:15</td>\n      <td>946</td>\n      <td>2013-01-12 08:50:15</td>\n      <td>946</td>\n      <td>2013-01-12 08:50:16</td>\n      <td>945</td>\n      <td>2013-01-12 08:50:16</td>\n      <td>948</td>\n      <td>2013-01-12 08:50:16</td>\n      <td>784</td>\n      <td>2013-01-12 08:50:16</td>\n      <td>949</td>\n      <td>2013-01-12 08:50:17</td>\n      <td>946</td>\n      <td>2013-01-12 08:50:17</td>\n    </tr>\n    <tr>\n      <th>114021</th>\n      <td>945</td>\n      <td>2013-01-12 08:50:17</td>\n      <td>948</td>\n      <td>2013-01-12 08:50:17</td>\n      <td>949</td>\n      <td>2013-01-12 08:50:18</td>\n      <td>948</td>\n      <td>2013-01-12 08:50:18</td>\n      <td>945</td>\n      <td>2013-01-12 08:50:18</td>\n      <td>946</td>\n      <td>2013-01-12 08:50:18</td>\n      <td>947</td>\n      <td>2013-01-12 08:50:19</td>\n      <td>945</td>\n      <td>2013-01-12 08:50:19</td>\n      <td>946</td>\n      <td>2013-01-12 08:50:19</td>\n      <td>946</td>\n      <td>2013-01-12 08:50:20</td>\n    </tr>\n    <tr>\n      <th>146670</th>\n      <td>947</td>\n      <td>2013-01-12 08:50:20</td>\n      <td>950</td>\n      <td>2013-01-12 08:50:20</td>\n      <td>948</td>\n      <td>2013-01-12 08:50:20</td>\n      <td>947</td>\n      <td>2013-01-12 08:50:21</td>\n      <td>950</td>\n      <td>2013-01-12 08:50:21</td>\n      <td>952</td>\n      <td>2013-01-12 08:50:21</td>\n      <td>946</td>\n      <td>2013-01-12 08:50:21</td>\n      <td>951</td>\n      <td>2013-01-12 08:50:22</td>\n      <td>946</td>\n      <td>2013-01-12 08:50:22</td>\n      <td>947</td>\n      <td>2013-01-12 08:50:22</td>\n    </tr>\n  </tbody>\n</table>\n</div>",
            "text/plain": "            site1               time1  site2               time2  site3  \\\nsession_id                                                                \n21669          56 2013-01-12 08:05:57     55 2013-01-12 08:05:57      0   \n54843          56 2013-01-12 08:37:23     55 2013-01-12 08:37:23     56   \n77292         946 2013-01-12 08:50:13    946 2013-01-12 08:50:14    951   \n114021        945 2013-01-12 08:50:17    948 2013-01-12 08:50:17    949   \n146670        947 2013-01-12 08:50:20    950 2013-01-12 08:50:20    948   \n\n                         time3  site4               time4  site5  \\\nsession_id                                                         \n21669                      NaT      0                 NaT      0   \n54843      2013-01-12 09:07:07     55 2013-01-12 09:07:09      0   \n77292      2013-01-12 08:50:15    946 2013-01-12 08:50:15    946   \n114021     2013-01-12 08:50:18    948 2013-01-12 08:50:18    945   \n146670     2013-01-12 08:50:20    947 2013-01-12 08:50:21    950   \n\n                         time5  site6               time6  site7  \\\nsession_id                                                         \n21669                      NaT      0                 NaT      0   \n54843                      NaT      0                 NaT      0   \n77292      2013-01-12 08:50:16    945 2013-01-12 08:50:16    948   \n114021     2013-01-12 08:50:18    946 2013-01-12 08:50:18    947   \n146670     2013-01-12 08:50:21    952 2013-01-12 08:50:21    946   \n\n                         time7  site8               time8  site9  \\\nsession_id                                                         \n21669                      NaT      0                 NaT      0   \n54843                      NaT      0                 NaT      0   \n77292      2013-01-12 08:50:16    784 2013-01-12 08:50:16    949   \n114021     2013-01-12 08:50:19    945 2013-01-12 08:50:19    946   \n146670     2013-01-12 08:50:21    951 2013-01-12 08:50:22    946   \n\n                         time9  site10              time10  \nsession_id                                                  \n21669                      NaT       0                 NaT  \n54843                      NaT       0                 NaT  \n77292      2013-01-12 08:50:17     946 2013-01-12 08:50:17  \n114021     2013-01-12 08:50:19     946 2013-01-12 08:50:20  \n146670     2013-01-12 08:50:22     947 2013-01-12 08:50:22  "
          },
          "metadata": {}
        }
      ]
    },
    {
      "metadata": {
        "trusted": true
      },
      "cell_type": "code",
      "source": "full_new_feat['start_hour'] = full_df['time1'].apply(lambda ts: \n                                                      ts.hour).astype('float64')\nfull_new_feat['morning'] = full_df['time1'].apply(lambda ts: \n                                                      ts.hour <= 11).astype('float64')",
      "execution_count": 33,
      "outputs": []
    },
    {
      "metadata": {
        "trusted": true
      },
      "cell_type": "code",
      "source": "full_new_feat.head()",
      "execution_count": 34,
      "outputs": [
        {
          "output_type": "execute_result",
          "execution_count": 34,
          "data": {
            "text/html": "<div>\n<table border=\"1\" class=\"dataframe\">\n  <thead>\n    <tr style=\"text-align: right;\">\n      <th></th>\n      <th>start_month</th>\n      <th>start_hour</th>\n      <th>morning</th>\n    </tr>\n    <tr>\n      <th>session_id</th>\n      <th></th>\n      <th></th>\n      <th></th>\n    </tr>\n  </thead>\n  <tbody>\n    <tr>\n      <th>21669</th>\n      <td>201301.0</td>\n      <td>8.0</td>\n      <td>1.0</td>\n    </tr>\n    <tr>\n      <th>54843</th>\n      <td>201301.0</td>\n      <td>8.0</td>\n      <td>1.0</td>\n    </tr>\n    <tr>\n      <th>77292</th>\n      <td>201301.0</td>\n      <td>8.0</td>\n      <td>1.0</td>\n    </tr>\n    <tr>\n      <th>114021</th>\n      <td>201301.0</td>\n      <td>8.0</td>\n      <td>1.0</td>\n    </tr>\n    <tr>\n      <th>146670</th>\n      <td>201301.0</td>\n      <td>8.0</td>\n      <td>1.0</td>\n    </tr>\n  </tbody>\n</table>\n</div>",
            "text/plain": "            start_month  start_hour  morning\nsession_id                                  \n21669          201301.0         8.0      1.0\n54843          201301.0         8.0      1.0\n77292          201301.0         8.0      1.0\n114021         201301.0         8.0      1.0\n146670         201301.0         8.0      1.0"
          },
          "metadata": {}
        }
      ]
    },
    {
      "metadata": {},
      "cell_type": "markdown",
      "source": "### 5. Regularization and Parameter Tuning\n\nWe have introduced features that improve the quality of our model in comparison with the first baseline. Can we do even better? After we have changed the training and test sets, it almost always makes sense to search for the optimal hyperparameters - the parameters of the model that do not change during training.\n\nFor example, in week 3, you learned that, in decision trees, the depth of the tree is a hyperparameter, but the feature by which splitting occurs and its threshold is not. \n\nIn the logistic regression that we use, the weights of each feature are changing, and we find their optimal values during training; meanwhile, the regularization parameter remains constant. This is the hyperparameter that we are going to optimize now.\n\nCalculate the quality on a validation set with a regularization parameter, which is equal to 1 by default:"
    },
    {
      "metadata": {
        "trusted": true
      },
      "cell_type": "code",
      "source": "# Compose the training set\ntmp_scaled = StandardScaler().fit_transform(full_new_feat[['start_month', \n                                                           'start_hour', \n                                                           'morning']])\nX_train = csr_matrix(hstack([full_sites_sparse[:idx_split,:], \n                             tmp_scaled[:idx_split,:]]))\n\n# Capture the quality with default parameters\nscore_C_1 = get_auc_lr_valid(X_train, y_train)\nprint(score_C_1)",
      "execution_count": 35,
      "outputs": [
        {
          "output_type": "stream",
          "text": "0.9591484398021342\n",
          "name": "stdout"
        }
      ]
    },
    {
      "metadata": {},
      "cell_type": "markdown",
      "source": "We will try to beat this result by optimizing the regularization parameter. We will take a list of possible values of C and calculate the quality metric on the validation set for each of C-values:"
    },
    {
      "metadata": {
        "trusted": true
      },
      "cell_type": "code",
      "source": "from tqdm import tqdm\n\n# List of possible C-values\nCs = np.logspace(-3, 1, 10)\nscores = []\nfor C in tqdm(Cs):\n    scores.append(get_auc_lr_valid(X_train, y_train, C=C))",
      "execution_count": 36,
      "outputs": [
        {
          "output_type": "stream",
          "text": "100%|██████████| 10/10 [04:31<00:00, 51.26s/it]\n",
          "name": "stderr"
        }
      ]
    },
    {
      "metadata": {
        "trusted": true
      },
      "cell_type": "code",
      "source": "scores",
      "execution_count": 44,
      "outputs": [
        {
          "output_type": "execute_result",
          "execution_count": 44,
          "data": {
            "text/plain": "[0.8229644453864324,\n 0.8965353710466695,\n 0.9390416751204054,\n 0.9563605175378849,\n 0.9606926057562715,\n 0.9612125106879411,\n 0.9603238114043351,\n 0.9586712564429566,\n 0.9557587924921138,\n 0.9513229950147095]"
          },
          "metadata": {}
        }
      ]
    },
    {
      "metadata": {},
      "cell_type": "markdown",
      "source": "Plot the graph of the quality metric (AUC-ROC) versus the value of the regularization parameter. The value of quality metric corresponding to the default value of C=1 is represented by a horizontal dotted line:"
    },
    {
      "metadata": {
        "trusted": true
      },
      "cell_type": "code",
      "source": "plt.plot(Cs, scores, 'ro-')\nplt.xscale('log')\nplt.xlabel('C')\nplt.ylabel('AUC-ROC')\nplt.title('Regularization Parameter Tuning')\n# horizontal line -- model quality with default C value\nplt.axhline(y=score_C_1, linewidth=.5, color='b', linestyle='dashed') \nplt.show()",
      "execution_count": 38,
      "outputs": [
        {
          "output_type": "display_data",
          "data": {
            "image/png": "[encoded data removed]",
            "text/plain": "<matplotlib.figure.Figure at 0x7f40046dbd68>"
          },
          "metadata": {}
        }
      ]
    },
    {
      "metadata": {
        "trusted": true
      },
      "cell_type": "code",
      "source": "Cs[np.argmax(scores)]",
      "execution_count": 39,
      "outputs": [
        {
          "output_type": "execute_result",
          "execution_count": 39,
          "data": {
            "text/plain": "0.1668100537200059"
          },
          "metadata": {}
        }
      ]
    },
    {
      "metadata": {},
      "cell_type": "markdown",
      "source": "##### 4.9. What is the value of parameter C (if rounded to 2 decimals) that corresponds to the highest model quality?\n\n*For discussions, please stick to [ODS Slack](https://opendatascience.slack.com/), channel #mlcourse_ai, pinned thread __#a4_q9__*\n\n- 0.17 \n- 0.46\n- 1.29\n- 3.14"
    },
    {
      "metadata": {
        "trusted": true
      },
      "cell_type": "code",
      "source": "# Your code is here",
      "execution_count": 40,
      "outputs": []
    },
    {
      "metadata": {},
      "cell_type": "markdown",
      "source": "For the last task in this assignment: train the model using the optimal regularization parameter you found (do not round up to two digits like in the last question). If you do everything correctly and submit your solution, you should see `ROC AUC = 0.92784` on the public leaderboard (\"A4 baseline 2\"):"
    },
    {
      "metadata": {
        "trusted": true
      },
      "cell_type": "code",
      "source": "# Prepare the training and test data\ntmp_scaled = StandardScaler().fit_transform(full_new_feat[['start_month', 'start_hour', \n                                                           'morning']])\nX_train = csr_matrix(hstack([full_sites_sparse[:idx_split,:], \n                             tmp_scaled[:idx_split,:]]))\nX_test = csr_matrix(hstack([full_sites_sparse[idx_split:,:], \n                            tmp_scaled[idx_split:,:]]))\n\n# Train the model on the whole training data set using optimal regularization parameter\nlr = LogisticRegression(C=C, random_state=17, solver='liblinear').fit(X_train, y_train)\n\n# Make a prediction for the test set\ny_test = lr.predict_proba(X_test)[:, 1]\n\n# Write it to the submission file\nwrite_to_submission_file(y_test, 'baseline_2.csv')",
      "execution_count": 41,
      "outputs": []
    },
    {
      "metadata": {},
      "cell_type": "markdown",
      "source": "In this part of the assignment, you have learned how to use sparse matrices, train logistic regression models, create new features and selected the best ones, learned why you need to scale features, and how to select hyperparameters. That's a lot!"
    },
    {
      "metadata": {},
      "cell_type": "markdown",
      "source": "# Part 2. Freeride"
    },
    {
      "metadata": {},
      "cell_type": "markdown",
      "source": "<img src='../../img/snowboard.jpg' width=70%>\n\n*Yorko in Sheregesh, the best palce in Russia for snowboarding and skiing.*"
    },
    {
      "metadata": {},
      "cell_type": "markdown",
      "source": "In this part, you'll need to beat the \"A4 baseline 3\" baseline. No more step-by-step instructions. But it'll be very helpful for you to study the Kernel \"[Correct time-aware cross-validation scheme](https://www.kaggle.com/kashnitsky/correct-time-aware-cross-validation-scheme)\".\n\nHere are a few tips for finding new features: think about what you can come up with using existing features, try multiplying or dividing two of them, justify or decline your hypotheses with plots, extract useful information from time series data (time1 ... time10), do not hesitate to convert an existing feature (for example, take a logarithm), etc. Checkout other [Kernels](https://www.kaggle.com/c/catch-me-if-you-can-intruder-detection-through-webpage-session-tracking2/kernels). We encourage you to try new ideas and models throughout the course and participate in the competitions - it's fun!\n\nWhen you get into Kaggle and Xgboost, you'll feel like that, and it's OK :)\n\n<img src='../../img/xgboost_meme.jpg' width=50%>"
    }
  ],
  "metadata": {
    "kernelspec": {
      "name": "python3",
      "display_name": "Python 3",
      "language": "python"
    },
    "language_info": {
      "mimetype": "text/x-python",
      "nbconvert_exporter": "python",
      "name": "python",
      "pygments_lexer": "ipython3",
      "version": "3.5.4",
      "file_extension": ".py",
      "codemirror_mode": {
        "version": 3,
        "name": "ipython"
      }
    }
  },
  "nbformat": 4,
  "nbformat_minor": 2
}