{
  "cells": [
    {
      "metadata": {},
      "cell_type": "markdown",
      "source": "<center>\n<img src=\"../../img/ods_stickers.jpg\" />\n    \n## [mlcourse.ai](mlcourse.ai) � Open Machine Learning Course \nAuthor: Arina Lopukhova (@erynn). Edited by [Yury Kashnitskiy](https://yorko.github.io) (@yorko). This material is subject to the terms and conditions of the [Creative Commons CC BY-NC-SA 4.0](https://creativecommons.org/licenses/by-nc-sa/4.0/) license. Free use is permitted for any non-commercial purpose."
    },
    {
      "metadata": {},
      "cell_type": "markdown",
      "source": "<h1><center>Assignment #1. Fall 2018</center></h1>\n<h2><center>Exploratory data analysis of Olympic games with Pandas</center></h2>"
    },
    {
      "metadata": {},
      "cell_type": "markdown",
      "source": "__There are ten questions about [120 years of Olympic history: athletes and results](https://www.kaggle.com/heesoo37/120-years-of-olympic-history-athletes-and-results/version/2) dataset in this task. Your task is to fill in the missing Python code and choose answers in [this web-form](https://docs.google.com/forms/d/179HYvlF_0x435CWdu2aOtR9a3flh0YCQXXNXhXaKw2M).__"
    },
    {
      "metadata": {},
      "cell_type": "markdown",
      "source": "Download the file `athlete_events.csv` from [Kaggle page](https://www.kaggle.com/heesoo37/120-years-of-olympic-history-athletes-and-results). The dataset has the following features (copied from Kaggle):\n\n- __ID__ - Unique number for each athlete\n- __Name__ - Athlete's name\n- __Sex__ - M or F\n- __Age__ - Integer\n- __Height__ - In centimeters\n- __Weight__ - In kilograms\n- __Team__ - Team name\n- __NOC__ - National Olympic Committee 3-letter code\n- __Games__ - Year and season\n- __Year__ - Integer\n- __Season__ - Summer or Winter\n- __City__ - Host city\n- __Sport__ - Sport\n- __Event__ - Event\n- __Medal__ - Gold, Silver, Bronze, or NA"
    },
    {
      "metadata": {
        "trusted": true
      },
      "cell_type": "code",
      "source": "import pandas as pd",
      "execution_count": 1,
      "outputs": []
    },
    {
      "metadata": {
        "trusted": true
      },
      "cell_type": "code",
      "source": "# Change the path to the dataset file if needed. \nPATH = 'athlete_events.csv'",
      "execution_count": 2,
      "outputs": []
    },
    {
      "metadata": {
        "trusted": true
      },
      "cell_type": "code",
      "source": "data = pd.read_csv(PATH)\ndata.head()",
      "execution_count": 3,
      "outputs": [
        {
          "output_type": "execute_result",
          "execution_count": 3,
          "data": {
            "text/html": "<div>\n<style scoped>\n    .dataframe tbody tr th:only-of-type {\n        vertical-align: middle;\n    }\n\n    .dataframe tbody tr th {\n        vertical-align: top;\n    }\n\n    .dataframe thead th {\n        text-align: right;\n    }\n</style>\n<table border=\"1\" class=\"dataframe\">\n  <thead>\n    <tr style=\"text-align: right;\">\n      <th></th>\n      <th>ID</th>\n      <th>Name</th>\n      <th>Sex</th>\n      <th>Age</th>\n      <th>Height</th>\n      <th>Weight</th>\n      <th>Team</th>\n      <th>NOC</th>\n      <th>Games</th>\n      <th>Year</th>\n      <th>Season</th>\n      <th>City</th>\n      <th>Sport</th>\n      <th>Event</th>\n      <th>Medal</th>\n    </tr>\n  </thead>\n  <tbody>\n    <tr>\n      <th>0</th>\n      <td>1</td>\n      <td>A Dijiang</td>\n      <td>M</td>\n      <td>24.0</td>\n      <td>180.0</td>\n      <td>80.0</td>\n      <td>China</td>\n      <td>CHN</td>\n      <td>1992 Summer</td>\n      <td>1992</td>\n      <td>Summer</td>\n      <td>Barcelona</td>\n      <td>Basketball</td>\n      <td>Basketball Men's Basketball</td>\n      <td>NaN</td>\n    </tr>\n    <tr>\n      <th>1</th>\n      <td>2</td>\n      <td>A Lamusi</td>\n      <td>M</td>\n      <td>23.0</td>\n      <td>170.0</td>\n      <td>60.0</td>\n      <td>China</td>\n      <td>CHN</td>\n      <td>2012 Summer</td>\n      <td>2012</td>\n      <td>Summer</td>\n      <td>London</td>\n      <td>Judo</td>\n      <td>Judo Men's Extra-Lightweight</td>\n      <td>NaN</td>\n    </tr>\n    <tr>\n      <th>2</th>\n      <td>3</td>\n      <td>Gunnar Nielsen Aaby</td>\n      <td>M</td>\n      <td>24.0</td>\n      <td>NaN</td>\n      <td>NaN</td>\n      <td>Denmark</td>\n      <td>DEN</td>\n      <td>1920 Summer</td>\n      <td>1920</td>\n      <td>Summer</td>\n      <td>Antwerpen</td>\n      <td>Football</td>\n      <td>Football Men's Football</td>\n      <td>NaN</td>\n    </tr>\n    <tr>\n      <th>3</th>\n      <td>4</td>\n      <td>Edgar Lindenau Aabye</td>\n      <td>M</td>\n      <td>34.0</td>\n      <td>NaN</td>\n      <td>NaN</td>\n      <td>Denmark/Sweden</td>\n      <td>DEN</td>\n      <td>1900 Summer</td>\n      <td>1900</td>\n      <td>Summer</td>\n      <td>Paris</td>\n      <td>Tug-Of-War</td>\n      <td>Tug-Of-War Men's Tug-Of-War</td>\n      <td>Gold</td>\n    </tr>\n    <tr>\n      <th>4</th>\n      <td>5</td>\n      <td>Christine Jacoba Aaftink</td>\n      <td>F</td>\n      <td>21.0</td>\n      <td>185.0</td>\n      <td>82.0</td>\n      <td>Netherlands</td>\n      <td>NED</td>\n      <td>1988 Winter</td>\n      <td>1988</td>\n      <td>Winter</td>\n      <td>Calgary</td>\n      <td>Speed Skating</td>\n      <td>Speed Skating Women's 500 metres</td>\n      <td>NaN</td>\n    </tr>\n  </tbody>\n</table>\n</div>",
            "text/plain": "   ID                      Name Sex   Age  Height  Weight            Team  \\\n0   1                 A Dijiang   M  24.0   180.0    80.0           China   \n1   2                  A Lamusi   M  23.0   170.0    60.0           China   \n2   3       Gunnar Nielsen Aaby   M  24.0     NaN     NaN         Denmark   \n3   4      Edgar Lindenau Aabye   M  34.0     NaN     NaN  Denmark/Sweden   \n4   5  Christine Jacoba Aaftink   F  21.0   185.0    82.0     Netherlands   \n\n   NOC        Games  Year  Season       City          Sport  \\\n0  CHN  1992 Summer  1992  Summer  Barcelona     Basketball   \n1  CHN  2012 Summer  2012  Summer     London           Judo   \n2  DEN  1920 Summer  1920  Summer  Antwerpen       Football   \n3  DEN  1900 Summer  1900  Summer      Paris     Tug-Of-War   \n4  NED  1988 Winter  1988  Winter    Calgary  Speed Skating   \n\n                              Event Medal  \n0       Basketball Men's Basketball   NaN  \n1      Judo Men's Extra-Lightweight   NaN  \n2           Football Men's Football   NaN  \n3       Tug-Of-War Men's Tug-Of-War  Gold  \n4  Speed Skating Women's 500 metres   NaN  "
          },
          "metadata": {}
        }
      ]
    },
    {
      "metadata": {},
      "cell_type": "markdown",
      "source": "__1. How old were the youngest male and female participants of the 1996 Olympics?__\n\n- 16 and 15\n- 14 and 12 \n- 16 and 12\n- 13 and 11"
    },
    {
      "metadata": {
        "trusted": true
      },
      "cell_type": "code",
      "source": "data[(data['Year'] == 1996) & (data['Sex'] == 'F') & (data['Age'])].min()\n\n",
      "execution_count": 32,
      "outputs": [
        {
          "output_type": "execute_result",
          "execution_count": 32,
          "data": {
            "text/plain": "ID                                13\nName                 Aa Bela Joaquim\nSex                                F\nAge                               12\nHeight                           136\nWeight                            30\nTeam                         Albania\nNOC                              ALB\nGames                    1996 Summer\nYear                            1996\nSeason                        Summer\nCity                         Atlanta\nSport                        Archery\nEvent     Archery Women's Individual\ndtype: object"
          },
          "metadata": {}
        }
      ]
    },
    {
      "metadata": {
        "trusted": true
      },
      "cell_type": "code",
      "source": "data[(data['Year'] == 1996) & (data['Sex'] == 'M') & (data['Age'])].min()",
      "execution_count": 27,
      "outputs": [
        {
          "output_type": "execute_result",
          "execution_count": 27,
          "data": {
            "text/plain": "ID                                             30\nName      A. J. Tyronne Benildus \"Benny\" Fernando\nSex                                             M\nAge                                            14\nHeight                                        147\nWeight                                         45\nTeam                                  Afghanistan\nNOC                                           AFG\nGames                                 1996 Summer\nYear                                         1996\nSeason                                     Summer\nCity                                      Atlanta\nSport                                     Archery\nEvent                    Archery Men's Individual\ndtype: object"
          },
          "metadata": {}
        }
      ]
    },
    {
      "metadata": {},
      "cell_type": "markdown",
      "source": "__2. What was the percentage of male gymnasts among all the male participants of the 2000 Olympics? Round the answer to the first decimal.__\n\n*Hint:* here and further if needed drop duplicated sportsmen to count only unique ones. \n\n- 0.2\n- 1.5 \n- 2.5\n- 7.7"
    },
    {
      "metadata": {
        "trusted": true
      },
      "cell_type": "code",
      "source": "data[(data['Year'] == 2000) & (data['Sex'] == 'M')]['ID'].drop_duplicates().count()",
      "execution_count": 65,
      "outputs": [
        {
          "output_type": "execute_result",
          "execution_count": 65,
          "data": {
            "text/plain": "6579"
          },
          "metadata": {}
        }
      ]
    },
    {
      "metadata": {
        "trusted": true
      },
      "cell_type": "code",
      "source": "x.loc[:,['ID']].drop_duplicates().count()",
      "execution_count": 62,
      "outputs": [
        {
          "output_type": "execute_result",
          "execution_count": 62,
          "data": {
            "text/plain": "ID    6579\ndtype: int64"
          },
          "metadata": {}
        }
      ]
    },
    {
      "metadata": {
        "trusted": true
      },
      "cell_type": "code",
      "source": "data[(data['Year'] == 2000) & (data['Sex'] == 'M') & (data['Sport'] == 'Gymnastics')]['ID'].drop_duplicates().count()",
      "execution_count": 83,
      "outputs": [
        {
          "output_type": "execute_result",
          "execution_count": 83,
          "data": {
            "text/plain": "97"
          },
          "metadata": {}
        }
      ]
    },
    {
      "metadata": {
        "trusted": true
      },
      "cell_type": "code",
      "source": "round(100 * data[(data['Year'] == 2000) & (data['Sex'] == 'M') & (data['Sport'] == 'Gymnastics')]['ID'].drop_duplicates().count() / \\\ndata[(data['Year'] == 2000) & (data['Sex'] == 'M')]['ID'].drop_duplicates().count(), 1)",
      "execution_count": 84,
      "outputs": [
        {
          "output_type": "execute_result",
          "execution_count": 84,
          "data": {
            "text/plain": "1.5"
          },
          "metadata": {}
        }
      ]
    },
    {
      "metadata": {},
      "cell_type": "markdown",
      "source": "__3. What are the mean and standard deviation of height for female basketball players participated in the 2000 Olympics? Round the answer to the first decimal.__\n\n- 178.5 and 7.2\n- 179.4 and 10\n- 180.7 and 6.7\n- 182.4 and 9.1 "
    },
    {
      "metadata": {
        "trusted": true
      },
      "cell_type": "code",
      "source": "data[(data['Year'] == 2000) & (data['Sex'] == 'F') & (data['Sport'] == 'Basketball')]['Height'].describe()",
      "execution_count": 89,
      "outputs": [
        {
          "output_type": "execute_result",
          "execution_count": 89,
          "data": {
            "text/plain": "count    142.000000\nmean     182.387324\nstd        9.139462\nmin      162.000000\n25%      175.000000\n50%      182.000000\n75%      190.000000\nmax      213.000000\nName: Height, dtype: float64"
          },
          "metadata": {}
        }
      ]
    },
    {
      "metadata": {},
      "cell_type": "markdown",
      "source": "__4. Find a sportsperson participated in the 2002 Olympics, with the highest weight among other participants of the same Olympics. What sport did he or she do?__\n\n- Judo\n- Bobsleigh \n- Weightlifting\n- Boxing"
    },
    {
      "metadata": {
        "trusted": true
      },
      "cell_type": "code",
      "source": "data[(data['Year'] == 2002) & (data['Weight'] == 123)]",
      "execution_count": 102,
      "outputs": [
        {
          "output_type": "execute_result",
          "execution_count": 102,
          "data": {
            "text/html": "<div>\n<style>\n    .dataframe thead tr:only-child th {\n        text-align: right;\n    }\n\n    .dataframe thead th {\n        text-align: left;\n    }\n\n    .dataframe tbody tr th {\n        vertical-align: top;\n    }\n</style>\n<table border=\"1\" class=\"dataframe\">\n  <thead>\n    <tr style=\"text-align: right;\">\n      <th></th>\n      <th>ID</th>\n      <th>Name</th>\n      <th>Sex</th>\n      <th>Age</th>\n      <th>Height</th>\n      <th>Weight</th>\n      <th>Team</th>\n      <th>NOC</th>\n      <th>Games</th>\n      <th>Year</th>\n      <th>Season</th>\n      <th>City</th>\n      <th>Sport</th>\n      <th>Event</th>\n      <th>Medal</th>\n    </tr>\n  </thead>\n  <tbody>\n    <tr>\n      <th>99154</th>\n      <td>50171</td>\n      <td>Emmanuel Hostache</td>\n      <td>M</td>\n      <td>26.0</td>\n      <td>190.0</td>\n      <td>123.0</td>\n      <td>France</td>\n      <td>FRA</td>\n      <td>2002 Winter</td>\n      <td>2002</td>\n      <td>Winter</td>\n      <td>Salt Lake City</td>\n      <td>Bobsleigh</td>\n      <td>Bobsleigh Men's Two</td>\n      <td>NaN</td>\n    </tr>\n  </tbody>\n</table>\n</div>",
            "text/plain": "          ID               Name Sex   Age  Height  Weight    Team  NOC  \\\n99154  50171  Emmanuel Hostache   M  26.0   190.0   123.0  France  FRA   \n\n             Games  Year  Season            City      Sport  \\\n99154  2002 Winter  2002  Winter  Salt Lake City  Bobsleigh   \n\n                     Event Medal  \n99154  Bobsleigh Men's Two   NaN  "
          },
          "metadata": {}
        }
      ]
    },
    {
      "metadata": {},
      "cell_type": "markdown",
      "source": "__5. How many times did Pawe Abratkiewicz participate in the Olympics held in different years?__\n\n- 0\n- 1 \n- 2\n- 3 "
    },
    {
      "metadata": {
        "trusted": true
      },
      "cell_type": "code",
      "source": "data[(data['Name'] == 'Pawe Abratkiewicz')]['Year'].drop_duplicates()",
      "execution_count": 104,
      "outputs": [
        {
          "output_type": "execute_result",
          "execution_count": 104,
          "data": {
            "text/plain": "997     1992\n999     1998\n1001    2002\nName: Year, dtype: int64"
          },
          "metadata": {}
        }
      ]
    },
    {
      "metadata": {},
      "cell_type": "markdown",
      "source": "__6. How many silver medals in tennis did Australia win at the 2000 Olympics?__\n\n- 0\n- 1 \n- 2 \n- 3 "
    },
    {
      "metadata": {
        "trusted": true
      },
      "cell_type": "code",
      "source": "data[(data['Year'] == 2000) & (data['Team'] == 'Australia') & (data['Sport'] == 'Tennis') & (data['Medal'] == 'Silver')]",
      "execution_count": 105,
      "outputs": [
        {
          "output_type": "execute_result",
          "execution_count": 105,
          "data": {
            "text/html": "<div>\n<style>\n    .dataframe thead tr:only-child th {\n        text-align: right;\n    }\n\n    .dataframe thead th {\n        text-align: left;\n    }\n\n    .dataframe tbody tr th {\n        vertical-align: top;\n    }\n</style>\n<table border=\"1\" class=\"dataframe\">\n  <thead>\n    <tr style=\"text-align: right;\">\n      <th></th>\n      <th>ID</th>\n      <th>Name</th>\n      <th>Sex</th>\n      <th>Age</th>\n      <th>Height</th>\n      <th>Weight</th>\n      <th>Team</th>\n      <th>NOC</th>\n      <th>Games</th>\n      <th>Year</th>\n      <th>Season</th>\n      <th>City</th>\n      <th>Sport</th>\n      <th>Event</th>\n      <th>Medal</th>\n    </tr>\n  </thead>\n  <tbody>\n    <tr>\n      <th>262820</th>\n      <td>131504</td>\n      <td>Todd Andrew Woodbridge</td>\n      <td>M</td>\n      <td>29.0</td>\n      <td>178.0</td>\n      <td>75.0</td>\n      <td>Australia</td>\n      <td>AUS</td>\n      <td>2000 Summer</td>\n      <td>2000</td>\n      <td>Summer</td>\n      <td>Sydney</td>\n      <td>Tennis</td>\n      <td>Tennis Men's Doubles</td>\n      <td>Silver</td>\n    </tr>\n    <tr>\n      <th>262831</th>\n      <td>131511</td>\n      <td>Mark Raymond Woodforde</td>\n      <td>M</td>\n      <td>34.0</td>\n      <td>183.0</td>\n      <td>80.0</td>\n      <td>Australia</td>\n      <td>AUS</td>\n      <td>2000 Summer</td>\n      <td>2000</td>\n      <td>Summer</td>\n      <td>Sydney</td>\n      <td>Tennis</td>\n      <td>Tennis Men's Doubles</td>\n      <td>Silver</td>\n    </tr>\n  </tbody>\n</table>\n</div>",
            "text/plain": "            ID                    Name Sex   Age  Height  Weight       Team  \\\n262820  131504  Todd Andrew Woodbridge   M  29.0   178.0    75.0  Australia   \n262831  131511  Mark Raymond Woodforde   M  34.0   183.0    80.0  Australia   \n\n        NOC        Games  Year  Season    City   Sport                 Event  \\\n262820  AUS  2000 Summer  2000  Summer  Sydney  Tennis  Tennis Men's Doubles   \n262831  AUS  2000 Summer  2000  Summer  Sydney  Tennis  Tennis Men's Doubles   \n\n         Medal  \n262820  Silver  \n262831  Silver  "
          },
          "metadata": {}
        }
      ]
    },
    {
      "metadata": {},
      "cell_type": "markdown",
      "source": "__7. Is it true that Switzerland won fewer medals than Serbia at the 2016 Olympics? Do not consider NaN values in _Medal_ column.__ \n\n- Yes \n- No"
    },
    {
      "metadata": {
        "trusted": true
      },
      "cell_type": "code",
      "source": "Sw_gold = data[(data['Year'] == 2016) & (data['Team'] == 'Switzerland') & (data['Medal'] == 'Gold')]['Medal'].count()\nSw_silver = data[(data['Year'] == 2016) & (data['Team'] == 'Switzerland') & (data['Medal'] == 'Silver')]['Medal'].count()\nSw_bronze = data[(data['Year'] == 2016) & (data['Team'] == 'Switzerland') & (data['Medal'] == 'Bronze')]['Medal'].count()\nprint('Швейцария - ',Sw_gold + Sw_silver + Sw_bronze,' медалей')\n\nSer_gold = data[(data['Year'] == 2016) & (data['Team'] == 'Serbia') & (data['Medal'] == 'Gold')]['Medal'].count()\nSer_silver = data[(data['Year'] == 2016) & (data['Team'] == 'Serbia') & (data['Medal'] == 'Silver')]['Medal'].count()\nSer_bronze = data[(data['Year'] == 2016) & (data['Team'] == 'Serbia') & (data['Medal'] == 'Bronze')]['Medal'].count()\nprint('Сербия - ',Ser_gold + Ser_silver + Ser_bronze,' медалей')",
      "execution_count": 12,
      "outputs": [
        {
          "output_type": "stream",
          "text": "Швейцария -  11  медалей\nСербия -  54  медалей\n",
          "name": "stdout"
        }
      ]
    },
    {
      "metadata": {
        "trusted": true
      },
      "cell_type": "code",
      "source": "data[(data['Year'] == 2016) & \\\n    (data['Team'].isin(['Switzerland', 'Serbia'])) & \\\n    (~ data['Medal'].isnull())].groupby('Team').size()",
      "execution_count": 11,
      "outputs": [
        {
          "output_type": "execute_result",
          "execution_count": 11,
          "data": {
            "text/plain": "Team\nSerbia         54\nSwitzerland    11\ndtype: int64"
          },
          "metadata": {}
        }
      ]
    },
    {
      "metadata": {},
      "cell_type": "markdown",
      "source": "__8. What age category did the fewest and the most participants of the 2014 Olympics belong to?__\n- [45-55] and [25-35) correspondingly\n- [45-55] and [15-25) correspondingly\n- [35-45] and [25-35) correspondingly\n- [45-55] and [35-45) correspondingly"
    },
    {
      "metadata": {
        "trusted": true
      },
      "cell_type": "code",
      "source": "data[data['Year'] == 2014]['Age']",
      "execution_count": 59,
      "outputs": [
        {
          "output_type": "execute_result",
          "execution_count": 59,
          "data": {
            "text/plain": "40        28.0\n252       20.0\n277       28.0\n278       28.0\n809       17.0\n810       17.0\n811       17.0\n942       25.0\n943       25.0\n947       25.0\n952       26.0\n953       26.0\n954       26.0\n955       26.0\n956       26.0\n1206      23.0\n1207      23.0\n1334      28.0\n1519      24.0\n1641      17.0\n1911      20.0\n1915      37.0\n1957      18.0\n1958      18.0\n2013      23.0\n2128      26.0\n2157      22.0\n2158      22.0\n2563      36.0\n2564      36.0\n          ... \n270061    18.0\n270144    23.0\n270145    23.0\n270167    24.0\n270175    27.0\n270176    27.0\n270177    27.0\n270178    27.0\n270253    21.0\n270254    21.0\n270260    40.0\n270261    40.0\n270275    20.0\n270276    20.0\n270392    24.0\n270510    27.0\n270511    27.0\n270512    27.0\n270513    27.0\n270593    21.0\n270609    39.0\n270610    39.0\n270675    26.0\n270928    25.0\n270929    25.0\n270930    25.0\n270966    21.0\n270967    21.0\n271112    27.0\n271113    27.0\nName: Age, Length: 4891, dtype: float64"
          },
          "metadata": {}
        }
      ]
    },
    {
      "metadata": {
        "trusted": true
      },
      "cell_type": "code",
      "source": "pd.cut(data[data['Year'] == 2014]['Age'], bins=[15,25,35,45,55], right=False).value_counts()",
      "execution_count": 34,
      "outputs": [
        {
          "output_type": "execute_result",
          "execution_count": 34,
          "data": {
            "text/plain": "[25, 35)    2594\n[15, 25)    2027\n[35, 45)     265\n[45, 55)       4\nName: Age, dtype: int64"
          },
          "metadata": {}
        }
      ]
    },
    {
      "metadata": {},
      "cell_type": "markdown",
      "source": "__9. Is it true that there were Summer Olympics held in Lake Placid? Is it true that there were Winter Olympics held in Sankt Moritz?__\n\n- Yes, Yes\n- Yes, No\n- No, Yes \n- No, No "
    },
    {
      "metadata": {
        "trusted": true
      },
      "cell_type": "code",
      "source": "data[(data['Season'] == 'Summer') & (data['City'] == 'Lake Placid')].bool",
      "execution_count": 41,
      "outputs": [
        {
          "output_type": "execute_result",
          "execution_count": 41,
          "data": {
            "text/plain": "<bound method NDFrame.bool of Empty DataFrame\nColumns: [ID, Name, Sex, Age, Height, Weight, Team, NOC, Games, Year, Season, City, Sport, Event, Medal]\nIndex: []>"
          },
          "metadata": {}
        }
      ]
    },
    {
      "metadata": {
        "trusted": true
      },
      "cell_type": "code",
      "source": "data[(data['Season'] == 'Winter') & (data['City'] == 'Sankt Moritz')].bool",
      "execution_count": 45,
      "outputs": [
        {
          "output_type": "execute_result",
          "execution_count": 45,
          "data": {
            "text/plain": "<bound method NDFrame.bool of             ID                                      Name Sex   Age  Height  \\\n935        529           Karl Gustaf Emanuel Abrahamsson   M  31.0     NaN   \n1187       665                     Gilbert Achard-Picard   M  29.0     NaN   \n1439       802                    Tadeusz Ralf Adamowski   M  26.0   177.0   \n1454       810         Bridget Shirley Adams (-Bengough)   F  19.0     NaN   \n2707      1508                            Enrico Airoldi   M  24.0     NaN   \n2708      1509                              Remo Airoldi   M  26.0     NaN   \n5053      2876                  Theodor \"Theo\" Allenbach   M  23.0     NaN   \n5054      2876                  Theodor \"Theo\" Allenbach   M  23.0     NaN   \n5132      2921                           Fernando Alloni   M  22.0     NaN   \n5332      3022                    Pentti Johannes Alonen   M  22.0   172.0   \n5333      3022                    Pentti Johannes Alonen   M  22.0   172.0   \n5334      3022                    Pentti Johannes Alonen   M  22.0   172.0   \n5478      3091                        Alfred Altenburger   M  24.0     NaN   \n5514      3118         Jeannette Eleanor Altwegg (-Wirz)   F  17.0     NaN   \n5702      3215                              Silvio Alver   M  26.0     NaN   \n5703      3215                              Silvio Alver   M  26.0     NaN   \n5704      3215                              Silvio Alver   M  26.0     NaN   \n6591      3686                        Alf Steen Andersen   M  21.0     NaN   \n6673      3734                    Hjalmar Johan Andersen   M  24.0     NaN   \n6918      3882                       ke Gustav Andersson   M  29.0     NaN   \n6991      3923  Fritz Gustaf Adolf Andersson (-Gabeling)   M  24.0     NaN   \n6992      3923  Fritz Gustaf Adolf Andersson (-Gabeling)   M  24.0     NaN   \n6993      3923  Fritz Gustaf Adolf Andersson (-Gabeling)   M  24.0     NaN   \n6994      3923  Fritz Gustaf Adolf Andersson (-Gabeling)   M  24.0     NaN   \n7133      3987             Stig Gustaf Emanuel Andersson   M  33.0     NaN   \n7143      3995                     Karl Volger Andersson   M  32.0     NaN   \n7144      3995                     Karl Volger Andersson   M  32.0     NaN   \n7345      4110                  Giannin \"Gian\" Andreossi   M  25.0     NaN   \n7346      4111               Munrezzan \"Mezzi\" Andreossi   M  30.0     NaN   \n7852      4348                    Heinrich \"Heiri\" Angst   M  32.0     NaN   \n...        ...                                       ...  ..   ...     ...   \n263150  131673                              Ludwig Wrede   M  33.0     NaN   \n263151  131673                              Ludwig Wrede   M  33.0     NaN   \n263153  131675                    Gordon L. \"Gordy\" Wren   M  29.0     NaN   \n263154  131675                    Gordon L. \"Gordy\" Wren   M  29.0     NaN   \n263155  131675                    Gordon L. \"Gordy\" Wren   M  29.0     NaN   \n263555  131881                         Rudolf Wurmbrandt   M  25.0   193.0   \n263562  131886                   Rhona Wurtele (-Gillis)   F  26.0     NaN   \n263654  131934                         Cecil Irton Wylde   M  24.0     NaN   \n265212  132727                      Takeo Yazawa-Hoshina   M  21.0   169.0   \n266685  133411                          Osman Yce Erolu    M  18.0     NaN   \n266686  133411                          Osman Yce Erolu    M  18.0     NaN   \n266687  133411                          Osman Yce Erolu    M  18.0     NaN   \n267059  133608                            Oldich Zbrodsk   M  21.0     NaN   \n267067  133610                  Vladimr Olegovic Zbrodsk   M  24.0     NaN   \n267321  133744                            Frantiek Zajek   M  35.0     NaN   \n267322  133745                            Jaroslav Zajek   M  27.0     NaN   \n267323  133745                            Jaroslav Zajek   M  27.0     NaN   \n267324  133745                            Jaroslav Zajek   M  27.0     NaN   \n267622  133889                          Luciano Zampatti   M   NaN     NaN   \n268246  134210                       Kazimierz Zebrowski   M  36.0     NaN   \n268311  134249                                Hans Zeier   M  29.0     NaN   \n269613  134910                              Ernest Ziaja   M  28.0     NaN   \n270251  135193                                David Zogg   M  25.0     NaN   \n270252  135194                              Florian Zogg   M  27.0     NaN   \n270351  135237                       Gianantonio Zopegni   M  32.0     NaN   \n270713  135383                  Annelore Zckert (-Zrost)   F  22.0     NaN   \n270714  135383                  Annelore Zckert (-Zrost)   F  22.0     NaN   \n270863  135463                           Hans Zurbriggen   M  27.0     NaN   \n270881  135466                         Robert Zurbriggen   M  30.0     NaN   \n270882  135466                         Robert Zurbriggen   M  30.0     NaN   \n\n        Weight            Team  NOC        Games  Year  Season          City  \\\n935        NaN          Sweden  SWE  1928 Winter  1928  Winter  Sankt Moritz   \n1187       NaN        France-2  FRA  1948 Winter  1948  Winter  Sankt Moritz   \n1439      70.0          Poland  POL  1928 Winter  1928  Winter  Sankt Moritz   \n1454       NaN   Great Britain  GBR  1948 Winter  1948  Winter  Sankt Moritz   \n2707       NaN         Italy-2  ITA  1948 Winter  1948  Winter  Sankt Moritz   \n2708       NaN         Italy-2  ITA  1948 Winter  1948  Winter  Sankt Moritz   \n5053       NaN     Switzerland  SUI  1948 Winter  1948  Winter  Sankt Moritz   \n5054       NaN     Switzerland  SUI  1948 Winter  1948  Winter  Sankt Moritz   \n5132       NaN           Italy  ITA  1948 Winter  1948  Winter  Sankt Moritz   \n5332      65.0         Finland  FIN  1948 Winter  1948  Winter  Sankt Moritz   \n5333      65.0         Finland  FIN  1948 Winter  1948  Winter  Sankt Moritz   \n5334      65.0         Finland  FIN  1948 Winter  1948  Winter  Sankt Moritz   \n5478       NaN     Switzerland  SUI  1948 Winter  1948  Winter  Sankt Moritz   \n5514       NaN   Great Britain  GBR  1948 Winter  1948  Winter  Sankt Moritz   \n5702       NaN           Italy  ITA  1948 Winter  1948  Winter  Sankt Moritz   \n5703       NaN           Italy  ITA  1948 Winter  1948  Winter  Sankt Moritz   \n5704       NaN           Italy  ITA  1948 Winter  1948  Winter  Sankt Moritz   \n6591       NaN          Norway  NOR  1928 Winter  1928  Winter  Sankt Moritz   \n6673       NaN          Norway  NOR  1948 Winter  1948  Winter  Sankt Moritz   \n6918       NaN          Sweden  SWE  1948 Winter  1948  Winter  Sankt Moritz   \n6991       NaN          Sweden  SWE  1928 Winter  1928  Winter  Sankt Moritz   \n6992       NaN          Sweden  SWE  1928 Winter  1928  Winter  Sankt Moritz   \n6993       NaN          Sweden  SWE  1928 Winter  1928  Winter  Sankt Moritz   \n6994       NaN          Sweden  SWE  1928 Winter  1928  Winter  Sankt Moritz   \n7133       NaN          Sweden  SWE  1948 Winter  1948  Winter  Sankt Moritz   \n7143       NaN          Sweden  SWE  1928 Winter  1928  Winter  Sankt Moritz   \n7144       NaN          Sweden  SWE  1928 Winter  1928  Winter  Sankt Moritz   \n7345       NaN     Switzerland  SUI  1928 Winter  1928  Winter  Sankt Moritz   \n7346       NaN     Switzerland  SUI  1928 Winter  1928  Winter  Sankt Moritz   \n7852       NaN   Switzerland-1  SUI  1948 Winter  1948  Winter  Sankt Moritz   \n...        ...             ...  ...          ...   ...     ...           ...   \n263150     NaN         Austria  AUT  1928 Winter  1928  Winter  Sankt Moritz   \n263151     NaN       Austria-2  AUT  1928 Winter  1928  Winter  Sankt Moritz   \n263153     NaN   United States  USA  1948 Winter  1948  Winter  Sankt Moritz   \n263154     NaN   United States  USA  1948 Winter  1948  Winter  Sankt Moritz   \n263155     NaN   United States  USA  1948 Winter  1948  Winter  Sankt Moritz   \n263555     NaN         Austria  AUT  1948 Winter  1948  Winter  Sankt Moritz   \n263562     NaN          Canada  CAN  1948 Winter  1948  Winter  Sankt Moritz   \n263654     NaN   Great Britain  GBR  1928 Winter  1928  Winter  Sankt Moritz   \n265212    62.0           Japan  JPN  1928 Winter  1928  Winter  Sankt Moritz   \n266685     NaN          Turkey  TUR  1948 Winter  1948  Winter  Sankt Moritz   \n266686     NaN          Turkey  TUR  1948 Winter  1948  Winter  Sankt Moritz   \n266687     NaN          Turkey  TUR  1948 Winter  1948  Winter  Sankt Moritz   \n267059     NaN  Czechoslovakia  TCH  1948 Winter  1948  Winter  Sankt Moritz   \n267067     NaN  Czechoslovakia  TCH  1948 Winter  1948  Winter  Sankt Moritz   \n267321     NaN  Czechoslovakia  TCH  1948 Winter  1948  Winter  Sankt Moritz   \n267322     NaN  Czechoslovakia  TCH  1948 Winter  1948  Winter  Sankt Moritz   \n267323     NaN  Czechoslovakia  TCH  1948 Winter  1948  Winter  Sankt Moritz   \n267324     NaN  Czechoslovakia  TCH  1948 Winter  1948  Winter  Sankt Moritz   \n267622     NaN           Italy  ITA  1928 Winter  1928  Winter  Sankt Moritz   \n268246     NaN          Poland  POL  1928 Winter  1928  Winter  Sankt Moritz   \n268311     NaN     Switzerland  SUI  1928 Winter  1928  Winter  Sankt Moritz   \n269613     NaN          Poland  POL  1948 Winter  1948  Winter  Sankt Moritz   \n270251     NaN     Switzerland  SUI  1928 Winter  1928  Winter  Sankt Moritz   \n270252     NaN     Switzerland  SUI  1928 Winter  1928  Winter  Sankt Moritz   \n270351     NaN           Italy  ITA  1948 Winter  1948  Winter  Sankt Moritz   \n270713     NaN         Austria  AUT  1948 Winter  1948  Winter  Sankt Moritz   \n270714     NaN         Austria  AUT  1948 Winter  1948  Winter  Sankt Moritz   \n270863     NaN     Switzerland  SUI  1948 Winter  1948  Winter  Sankt Moritz   \n270881     NaN     Switzerland  SUI  1948 Winter  1948  Winter  Sankt Moritz   \n270882     NaN     Switzerland  SUI  1948 Winter  1948  Winter  Sankt Moritz   \n\n                       Sport  \\\n935               Ice Hockey   \n1187               Bobsleigh   \n1439              Ice Hockey   \n1454          Figure Skating   \n2707               Bobsleigh   \n2708               Bobsleigh   \n5053    Cross Country Skiing   \n5054         Nordic Combined   \n5132           Speed Skating   \n5332           Alpine Skiing   \n5333           Alpine Skiing   \n5334           Alpine Skiing   \n5478           Speed Skating   \n5514          Figure Skating   \n5702           Alpine Skiing   \n5703           Alpine Skiing   \n5704           Alpine Skiing   \n6591             Ski Jumping   \n6673           Speed Skating   \n6918              Ice Hockey   \n6991           Speed Skating   \n6992           Speed Skating   \n6993           Speed Skating   \n6994           Speed Skating   \n7133              Ice Hockey   \n7143    Cross Country Skiing   \n7144    Cross Country Skiing   \n7345              Ice Hockey   \n7346              Ice Hockey   \n7852               Bobsleigh   \n...                      ...   \n263150        Figure Skating   \n263151        Figure Skating   \n263153           Ski Jumping   \n263154  Cross Country Skiing   \n263155       Nordic Combined   \n263555            Ice Hockey   \n263562         Alpine Skiing   \n263654            Ice Hockey   \n265212  Cross Country Skiing   \n266685         Alpine Skiing   \n266686         Alpine Skiing   \n266687         Alpine Skiing   \n267059            Ice Hockey   \n267067            Ice Hockey   \n267321             Bobsleigh   \n267322  Cross Country Skiing   \n267323  Cross Country Skiing   \n267324  Cross Country Skiing   \n267622           Ski Jumping   \n268246            Ice Hockey   \n268311  Cross Country Skiing   \n269613            Ice Hockey   \n270251       Nordic Combined   \n270252  Cross Country Skiing   \n270351            Ice Hockey   \n270713         Alpine Skiing   \n270714         Alpine Skiing   \n270863           Ski Jumping   \n270881  Cross Country Skiing   \n270882  Cross Country Skiing   \n\n                                                    Event   Medal  \n935                           Ice Hockey Men's Ice Hockey  Silver  \n1187                                 Bobsleigh Men's Four     NaN  \n1439                          Ice Hockey Men's Ice Hockey     NaN  \n1454                       Figure Skating Women's Singles     NaN  \n2707                                 Bobsleigh Men's Four     NaN  \n2708                                 Bobsleigh Men's Four     NaN  \n5053             Cross Country Skiing Men's 18 kilometres     NaN  \n5054                     Nordic Combined Men's Individual     NaN  \n5132                     Speed Skating Men's 5,000 metres     NaN  \n5332                         Alpine Skiing Men's Downhill     NaN  \n5333                           Alpine Skiing Men's Slalom     NaN  \n5334                         Alpine Skiing Men's Combined     NaN  \n5478                     Speed Skating Men's 5,000 metres     NaN  \n5514                       Figure Skating Women's Singles  Bronze  \n5702                         Alpine Skiing Men's Downhill     NaN  \n5703                           Alpine Skiing Men's Slalom     NaN  \n5704                         Alpine Skiing Men's Combined     NaN  \n6591            Ski Jumping Men's Normal Hill, Individual    Gold  \n6673                    Speed Skating Men's 10,000 metres     NaN  \n6918                          Ice Hockey Men's Ice Hockey     NaN  \n6991                       Speed Skating Men's 500 metres     NaN  \n6992                     Speed Skating Men's 1,500 metres     NaN  \n6993                     Speed Skating Men's 5,000 metres     NaN  \n6994                    Speed Skating Men's 10,000 metres     NaN  \n7133                          Ice Hockey Men's Ice Hockey     NaN  \n7143             Cross Country Skiing Men's 18 kilometres     NaN  \n7144             Cross Country Skiing Men's 50 kilometres  Bronze  \n7345                          Ice Hockey Men's Ice Hockey  Bronze  \n7346                          Ice Hockey Men's Ice Hockey  Bronze  \n7852                                 Bobsleigh Men's Four     NaN  \n...                                                   ...     ...  \n263150                       Figure Skating Men's Singles     NaN  \n263151                         Figure Skating Mixed Pairs  Bronze  \n263153          Ski Jumping Men's Normal Hill, Individual     NaN  \n263154           Cross Country Skiing Men's 18 kilometres     NaN  \n263155                   Nordic Combined Men's Individual     NaN  \n263555                        Ice Hockey Men's Ice Hockey     NaN  \n263562                     Alpine Skiing Women's Downhill     NaN  \n263654                        Ice Hockey Men's Ice Hockey     NaN  \n265212           Cross Country Skiing Men's 18 kilometres     NaN  \n266685                       Alpine Skiing Men's Downhill     NaN  \n266686                         Alpine Skiing Men's Slalom     NaN  \n266687                       Alpine Skiing Men's Combined     NaN  \n267059                        Ice Hockey Men's Ice Hockey  Silver  \n267067                        Ice Hockey Men's Ice Hockey  Silver  \n267321                               Bobsleigh Men's Four     NaN  \n267322           Cross Country Skiing Men's 18 kilometres     NaN  \n267323           Cross Country Skiing Men's 50 kilometres     NaN  \n267324  Cross Country Skiing Men's 4 x 10 kilometres R...     NaN  \n267622          Ski Jumping Men's Normal Hill, Individual     NaN  \n268246                        Ice Hockey Men's Ice Hockey     NaN  \n268311           Cross Country Skiing Men's 50 kilometres     NaN  \n269613                        Ice Hockey Men's Ice Hockey     NaN  \n270251                   Nordic Combined Men's Individual     NaN  \n270252           Cross Country Skiing Men's 18 kilometres     NaN  \n270351                        Ice Hockey Men's Ice Hockey     NaN  \n270713                     Alpine Skiing Women's Downhill     NaN  \n270714                       Alpine Skiing Women's Slalom     NaN  \n270863          Ski Jumping Men's Normal Hill, Individual     NaN  \n270881           Cross Country Skiing Men's 18 kilometres     NaN  \n270882  Cross Country Skiing Men's 4 x 10 kilometres R...     NaN  \n\n[1657 rows x 15 columns]>"
          },
          "metadata": {}
        }
      ]
    },
    {
      "metadata": {},
      "cell_type": "markdown",
      "source": "__10. What is the absolute difference between the number of unique sports at the 1995 Olympics and 2016 Olympics?__\n\n- 16\n- 24\n- 26\n- 34"
    },
    {
      "metadata": {
        "trusted": true
      },
      "cell_type": "code",
      "source": "data[data['Year'] == 2016]['Sport'].drop_duplicates().count() - data[data['Year'] == 1995]['Sport'].drop_duplicates().count()",
      "execution_count": 58,
      "outputs": [
        {
          "output_type": "execute_result",
          "execution_count": 58,
          "data": {
            "text/plain": "34"
          },
          "metadata": {}
        }
      ]
    },
    {
      "metadata": {
        "trusted": true
      },
      "cell_type": "code",
      "source": "",
      "execution_count": null,
      "outputs": []
    }
  ],
  "metadata": {
    "kernelspec": {
      "name": "python36",
      "display_name": "Python 3.6",
      "language": "python"
    },
    "language_info": {
      "mimetype": "text/x-python",
      "nbconvert_exporter": "python",
      "name": "python",
      "pygments_lexer": "ipython3",
      "version": "3.6.6",
      "file_extension": ".py",
      "codemirror_mode": {
        "version": 3,
        "name": "ipython"
      }
    }
  },
  "nbformat": 4,
  "nbformat_minor": 2
}